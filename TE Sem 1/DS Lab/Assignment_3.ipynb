{
  "nbformat": 4,
  "nbformat_minor": 2,
  "metadata": {
    "colab": {
      "name": "Assignment 3.ipynb",
      "provenance": []
    },
    "kernelspec": {
      "name": "python3",
      "display_name": "Python 3.9.6 64-bit ('tf-gpu': conda)"
    },
    "language_info": {
      "name": "python",
      "version": "3.9.6",
      "mimetype": "text/x-python",
      "codemirror_mode": {
        "name": "ipython",
        "version": 3
      },
      "pygments_lexer": "ipython3",
      "nbconvert_exporter": "python",
      "file_extension": ".py"
    },
    "interpreter": {
      "hash": "cca8452e2529a2bd83dee1fd0de12ffba9119b0f682deddf66e9e9eaed3ae11c"
    }
  },
  "cells": [
    {
      "cell_type": "markdown",
      "source": [
        "# **Assignment 3**\n",
        "### **Rugved Somwanshi**\n",
        "### **33273**"
      ],
      "metadata": {
        "id": "hFPC6mYB8DcS"
      }
    },
    {
      "cell_type": "code",
      "execution_count": 1,
      "source": [
        "import pandas as pd\n",
        "import numpy as np\n",
        "import matplotlib.pyplot as plt"
      ],
      "outputs": [],
      "metadata": {
        "id": "t8H6aT376_zk"
      }
    },
    {
      "cell_type": "code",
      "execution_count": 2,
      "source": [
        "df = pd.read_csv('data/dataset-43-marketing-segmentation.csv')"
      ],
      "outputs": [],
      "metadata": {
        "id": "-5pOlBab7I-b"
      }
    },
    {
      "cell_type": "code",
      "execution_count": 3,
      "source": [
        "df.head()"
      ],
      "outputs": [
        {
          "output_type": "execute_result",
          "data": {
            "text/plain": [
              "   brand_loyality_score  price_sensitivity_score\n",
              "0              9.310463                 5.356477\n",
              "1              1.887756                 7.301291\n",
              "2              9.554102                 5.339255\n",
              "3              1.239190                 7.775585\n",
              "4              4.042612                 6.993620"
            ],
            "text/html": [
              "<div>\n",
              "<style scoped>\n",
              "    .dataframe tbody tr th:only-of-type {\n",
              "        vertical-align: middle;\n",
              "    }\n",
              "\n",
              "    .dataframe tbody tr th {\n",
              "        vertical-align: top;\n",
              "    }\n",
              "\n",
              "    .dataframe thead th {\n",
              "        text-align: right;\n",
              "    }\n",
              "</style>\n",
              "<table border=\"1\" class=\"dataframe\">\n",
              "  <thead>\n",
              "    <tr style=\"text-align: right;\">\n",
              "      <th></th>\n",
              "      <th>brand_loyality_score</th>\n",
              "      <th>price_sensitivity_score</th>\n",
              "    </tr>\n",
              "  </thead>\n",
              "  <tbody>\n",
              "    <tr>\n",
              "      <th>0</th>\n",
              "      <td>9.310463</td>\n",
              "      <td>5.356477</td>\n",
              "    </tr>\n",
              "    <tr>\n",
              "      <th>1</th>\n",
              "      <td>1.887756</td>\n",
              "      <td>7.301291</td>\n",
              "    </tr>\n",
              "    <tr>\n",
              "      <th>2</th>\n",
              "      <td>9.554102</td>\n",
              "      <td>5.339255</td>\n",
              "    </tr>\n",
              "    <tr>\n",
              "      <th>3</th>\n",
              "      <td>1.239190</td>\n",
              "      <td>7.775585</td>\n",
              "    </tr>\n",
              "    <tr>\n",
              "      <th>4</th>\n",
              "      <td>4.042612</td>\n",
              "      <td>6.993620</td>\n",
              "    </tr>\n",
              "  </tbody>\n",
              "</table>\n",
              "</div>"
            ]
          },
          "metadata": {},
          "execution_count": 3
        }
      ],
      "metadata": {
        "colab": {
          "base_uri": "https://localhost:8080/",
          "height": 206
        },
        "id": "PDhrEED-7ZsW",
        "outputId": "24aa728a-0e57-489c-bac9-ea30b76be236"
      }
    },
    {
      "cell_type": "code",
      "execution_count": 4,
      "source": [
        "df.describe()"
      ],
      "outputs": [
        {
          "output_type": "execute_result",
          "data": {
            "text/plain": [
              "       brand_loyality_score  price_sensitivity_score\n",
              "count            150.000000               150.000000\n",
              "mean               4.960049                 6.435248\n",
              "std                3.011512                 0.944013\n",
              "min                0.578259                 4.246792\n",
              "25%                1.889442                 5.637454\n",
              "50%                4.368651                 6.565923\n",
              "75%                8.570695                 7.146110\n",
              "max                9.742813                 8.363148"
            ],
            "text/html": [
              "<div>\n",
              "<style scoped>\n",
              "    .dataframe tbody tr th:only-of-type {\n",
              "        vertical-align: middle;\n",
              "    }\n",
              "\n",
              "    .dataframe tbody tr th {\n",
              "        vertical-align: top;\n",
              "    }\n",
              "\n",
              "    .dataframe thead th {\n",
              "        text-align: right;\n",
              "    }\n",
              "</style>\n",
              "<table border=\"1\" class=\"dataframe\">\n",
              "  <thead>\n",
              "    <tr style=\"text-align: right;\">\n",
              "      <th></th>\n",
              "      <th>brand_loyality_score</th>\n",
              "      <th>price_sensitivity_score</th>\n",
              "    </tr>\n",
              "  </thead>\n",
              "  <tbody>\n",
              "    <tr>\n",
              "      <th>count</th>\n",
              "      <td>150.000000</td>\n",
              "      <td>150.000000</td>\n",
              "    </tr>\n",
              "    <tr>\n",
              "      <th>mean</th>\n",
              "      <td>4.960049</td>\n",
              "      <td>6.435248</td>\n",
              "    </tr>\n",
              "    <tr>\n",
              "      <th>std</th>\n",
              "      <td>3.011512</td>\n",
              "      <td>0.944013</td>\n",
              "    </tr>\n",
              "    <tr>\n",
              "      <th>min</th>\n",
              "      <td>0.578259</td>\n",
              "      <td>4.246792</td>\n",
              "    </tr>\n",
              "    <tr>\n",
              "      <th>25%</th>\n",
              "      <td>1.889442</td>\n",
              "      <td>5.637454</td>\n",
              "    </tr>\n",
              "    <tr>\n",
              "      <th>50%</th>\n",
              "      <td>4.368651</td>\n",
              "      <td>6.565923</td>\n",
              "    </tr>\n",
              "    <tr>\n",
              "      <th>75%</th>\n",
              "      <td>8.570695</td>\n",
              "      <td>7.146110</td>\n",
              "    </tr>\n",
              "    <tr>\n",
              "      <th>max</th>\n",
              "      <td>9.742813</td>\n",
              "      <td>8.363148</td>\n",
              "    </tr>\n",
              "  </tbody>\n",
              "</table>\n",
              "</div>"
            ]
          },
          "metadata": {},
          "execution_count": 4
        }
      ],
      "metadata": {
        "colab": {
          "base_uri": "https://localhost:8080/",
          "height": 300
        },
        "id": "GckhUJeo7bFv",
        "outputId": "cfaf2b26-f84c-4632-ca06-90231aa38db4"
      }
    },
    {
      "cell_type": "code",
      "execution_count": 5,
      "source": [
        "df.shape"
      ],
      "outputs": [
        {
          "output_type": "execute_result",
          "data": {
            "text/plain": [
              "(150, 2)"
            ]
          },
          "metadata": {},
          "execution_count": 5
        }
      ],
      "metadata": {
        "colab": {
          "base_uri": "https://localhost:8080/"
        },
        "id": "O060T_zt7cnp",
        "outputId": "51121fe8-1dc5-4aee-fc4d-345962ae7231"
      }
    },
    {
      "cell_type": "code",
      "execution_count": 16,
      "source": [
        "from sklearn.preprocessing import StandardScaler"
      ],
      "outputs": [],
      "metadata": {
        "id": "mshgST_77eCx"
      }
    },
    {
      "cell_type": "code",
      "execution_count": 17,
      "source": [
        "sc = StandardScaler() "
      ],
      "outputs": [],
      "metadata": {
        "id": "iSYF0FId7foq"
      }
    },
    {
      "cell_type": "code",
      "execution_count": 18,
      "source": [
        "df_scaled = sc.fit_transform(df) "
      ],
      "outputs": [],
      "metadata": {
        "id": "sM7TgRHC7iv8"
      }
    },
    {
      "cell_type": "code",
      "execution_count": 19,
      "source": [
        "df_scaled "
      ],
      "outputs": [
        {
          "output_type": "execute_result",
          "data": {
            "text/plain": [
              "array([[ 1.44943396, -1.14657865],\n",
              "       [-1.02360028,  0.92047929],\n",
              "       [ 1.53060763, -1.16488273],\n",
              "       [-1.23968431,  1.42458632],\n",
              "       [-0.30566383,  0.59346927],\n",
              "       [-1.00692082,  1.32992949],\n",
              "       [ 1.20934201, -1.72744849],\n",
              "       [-0.16348123,  0.78983462],\n",
              "       [-1.09788619,  1.61896648],\n",
              "       [ 1.2693947 , -1.94289412],\n",
              "       [-1.39103114,  1.13918773],\n",
              "       [-1.11613379, -0.07786444],\n",
              "       [-0.26930305,  0.63828386],\n",
              "       [-1.18349065, -0.36142962],\n",
              "       [ 1.29738326, -0.6795792 ],\n",
              "       [ 0.00924993,  0.67264162],\n",
              "       [ 1.1886465 , -1.17732225],\n",
              "       [-0.86650012,  0.70444516],\n",
              "       [ 1.25486602, -0.88332737],\n",
              "       [-1.06068329,  1.24525932],\n",
              "       [-1.40057044, -0.10357193],\n",
              "       [-0.10530071, -0.0234458 ],\n",
              "       [-0.25881683,  1.3033406 ],\n",
              "       [-0.86117929,  1.21039317],\n",
              "       [-0.0698352 ,  0.07199522],\n",
              "       [-1.18047746,  1.93295162],\n",
              "       [-0.97593128,  0.75899564],\n",
              "       [ 1.38805346, -0.70071459],\n",
              "       [-1.31482088,  0.29663697],\n",
              "       [-0.0447178 ,  0.44404556],\n",
              "       [-1.17742537, -0.15845317],\n",
              "       [-0.39099237, -0.33941324],\n",
              "       [ 1.27905581, -0.81627627],\n",
              "       [-0.23763829,  0.48608104],\n",
              "       [-0.94117095,  0.6333193 ],\n",
              "       [-0.49279156,  1.47138792],\n",
              "       [-1.02135445,  0.45456659],\n",
              "       [ 1.09789971, -1.3665288 ],\n",
              "       [-0.79747036,  0.98075437],\n",
              "       [ 1.25645207, -0.9651038 ],\n",
              "       [ 1.11405948, -1.18603272],\n",
              "       [ 1.36653529, -1.50279166],\n",
              "       [-0.21588455, -0.07491829],\n",
              "       [-1.156424  ,  0.08235206],\n",
              "       [-1.22017302,  0.76347991],\n",
              "       [-1.13803762,  0.69018104],\n",
              "       [-0.07150065,  0.96573133],\n",
              "       [ 1.3373252 , -0.76727247],\n",
              "       [ 0.9033198 , -0.71804219],\n",
              "       [ 1.21342576, -1.28964062],\n",
              "       [ 1.40108007, -1.59155153],\n",
              "       [-1.13177371,  1.48868495],\n",
              "       [ 1.49467009, -0.7655968 ],\n",
              "       [-0.06945369,  0.5671068 ],\n",
              "       [ 1.4997876 , -1.18784842],\n",
              "       [-1.45988756,  0.50275536],\n",
              "       [ 0.02946183, -0.05444504],\n",
              "       [ 1.25951905, -1.32026186],\n",
              "       [-0.28696565,  0.47682656],\n",
              "       [ 1.21732012, -0.65269494],\n",
              "       [-0.86555401,  0.74159319],\n",
              "       [ 1.26520999, -2.2077774 ],\n",
              "       [-0.30748883,  0.30486525],\n",
              "       [-1.09908801,  0.98887241],\n",
              "       [ 1.59348087, -1.19365998],\n",
              "       [-0.3715181 ,  0.72813681],\n",
              "       [-0.23054932,  0.57943409],\n",
              "       [ 1.41404561, -1.24546902],\n",
              "       [-0.35800403,  0.100982  ],\n",
              "       [-1.07026435,  0.04340735],\n",
              "       [-1.31659134,  1.63158052],\n",
              "       [ 1.50192686, -1.510757  ],\n",
              "       [-0.47602347,  0.57302733],\n",
              "       [-0.14714606,  0.14660969],\n",
              "       [-1.04676865,  0.36384784],\n",
              "       [ 1.18941899, -2.32601387],\n",
              "       [-0.84100241,  0.93666374],\n",
              "       [-1.12354613,  0.08371396],\n",
              "       [-0.1314345 , -0.61053583],\n",
              "       [-1.02457234,  1.21422519],\n",
              "       [-0.19388354,  0.97938296],\n",
              "       [-0.14843807, -0.57856664],\n",
              "       [ 1.19263385, -1.42441672],\n",
              "       [ 1.50090887, -1.70362698],\n",
              "       [-0.94645814,  1.17376731],\n",
              "       [ 1.34226213, -1.29051232],\n",
              "       [-0.41010707,  0.77783677],\n",
              "       [-1.13257918,  1.75782748],\n",
              "       [-1.03180979,  0.71575332],\n",
              "       [-0.1963934 , -0.06298105],\n",
              "       [ 0.13529764,  0.13116735],\n",
              "       [-1.16599347,  0.22756976],\n",
              "       [-0.19882573,  0.53395543],\n",
              "       [ 1.19980139, -1.0470478 ],\n",
              "       [-0.33042865, -0.59917395],\n",
              "       [ 1.25076584, -1.31890604],\n",
              "       [ 0.0868197 ,  0.45798014],\n",
              "       [-1.14864082,  0.54069376],\n",
              "       [-1.07110532,  0.57585581],\n",
              "       [-0.23928439, -0.22161359],\n",
              "       [-1.17297729,  0.60385037],\n",
              "       [ 1.02275093, -1.06104354],\n",
              "       [ 0.05009771,  0.89572443],\n",
              "       [-0.19768029, -0.4416992 ],\n",
              "       [-0.43128166,  0.91403636],\n",
              "       [-0.82176822,  0.67958574],\n",
              "       [ 1.28414765, -0.8642051 ],\n",
              "       [-0.26689386,  0.68443567],\n",
              "       [-1.22820516,  0.82495595],\n",
              "       [-0.32924716, -0.05700169],\n",
              "       [-1.05075953,  0.08772999],\n",
              "       [ 1.36931475, -1.21435084],\n",
              "       [-1.14811244, -0.09024063],\n",
              "       [ 0.00554761,  0.45278377],\n",
              "       [ 1.26618924, -1.47402176],\n",
              "       [-0.18314542,  0.74519056],\n",
              "       [-0.1660079 ,  0.88167253],\n",
              "       [ 1.56711451, -1.51832869],\n",
              "       [-1.05216282,  2.04908081],\n",
              "       [-0.13616637, -0.33563584],\n",
              "       [-0.25362213,  0.18210185],\n",
              "       [-0.10076265,  1.02260923],\n",
              "       [-0.37905084,  0.76318487],\n",
              "       [ 0.99323323, -0.99775814],\n",
              "       [ 1.3533925 , -0.5756261 ],\n",
              "       [ 0.02505422,  0.67535473],\n",
              "       [-1.16591309,  1.54384681],\n",
              "       [ 1.2851658 , -0.45785807],\n",
              "       [-0.73951049,  1.31647747],\n",
              "       [-1.35502994,  1.12122267],\n",
              "       [-1.1798583 ,  0.38175048],\n",
              "       [ 1.3861372 , -1.35747465],\n",
              "       [ 1.20349755, -0.85849484],\n",
              "       [ 0.99267833, -1.31661957],\n",
              "       [ 1.20136517, -1.03384079],\n",
              "       [-1.25999718,  1.05359644],\n",
              "       [ 1.37054054, -1.58283029],\n",
              "       [ 1.06387809, -0.72744059],\n",
              "       [ 0.03104973,  1.28569879],\n",
              "       [-0.35633924,  0.47182742],\n",
              "       [ 1.47812382, -1.38265166],\n",
              "       [-0.46915527,  0.71283655],\n",
              "       [ 1.36592195, -1.78350551],\n",
              "       [-1.11802484,  0.81443579],\n",
              "       [ 1.22708171, -0.77910403],\n",
              "       [ 0.15900706, -0.42106456],\n",
              "       [ 1.41000058, -1.82145848],\n",
              "       [ 1.31703111, -0.27326853],\n",
              "       [-1.2474088 ,  0.85574319],\n",
              "       [ 0.00977035,  0.52536122]])"
            ]
          },
          "metadata": {},
          "execution_count": 19
        }
      ],
      "metadata": {
        "colab": {
          "base_uri": "https://localhost:8080/"
        },
        "id": "MjBAtDCo7kNK",
        "outputId": "8581015d-6d22-4edd-b3b5-50012769bb4d"
      }
    },
    {
      "cell_type": "code",
      "execution_count": 20,
      "source": [
        "from sklearn.cluster import KMeans"
      ],
      "outputs": [],
      "metadata": {
        "id": "xohE-jHO7lmH"
      }
    },
    {
      "cell_type": "code",
      "execution_count": 21,
      "source": [
        "ssq =[] \n",
        "for K in range(1,11):\n",
        "    my_model = KMeans(n_clusters=K, random_state=123) \n",
        "    result = my_model.fit(df_scaled)\n",
        "    ssq.append(my_model.inertia_)"
      ],
      "outputs": [],
      "metadata": {
        "id": "OvrP8jlx7oKV"
      }
    },
    {
      "cell_type": "code",
      "execution_count": 22,
      "source": [
        "plt.plot(range(1,11), ssq, marker='o')\n",
        "plt.xlabel(\"Number of clusters\")\n",
        "plt.ylabel(\"Within-cluster SSQ\")\n",
        "plt.title(\"SSQ Plot\")\n",
        "plt.show()"
      ],
      "outputs": [
        {
          "output_type": "display_data",
          "data": {
            "text/plain": [
              "<Figure size 432x288 with 1 Axes>"
            ],
            "image/svg+xml": "<?xml version=\"1.0\" encoding=\"utf-8\" standalone=\"no\"?>\n<!DOCTYPE svg PUBLIC \"-//W3C//DTD SVG 1.1//EN\"\n  \"http://www.w3.org/Graphics/SVG/1.1/DTD/svg11.dtd\">\n<svg height=\"277.314375pt\" version=\"1.1\" viewBox=\"0 0 388.965625 277.314375\" width=\"388.965625pt\" xmlns=\"http://www.w3.org/2000/svg\" xmlns:xlink=\"http://www.w3.org/1999/xlink\">\n <metadata>\n  <rdf:RDF xmlns:cc=\"http://creativecommons.org/ns#\" xmlns:dc=\"http://purl.org/dc/elements/1.1/\" xmlns:rdf=\"http://www.w3.org/1999/02/22-rdf-syntax-ns#\">\n   <cc:Work>\n    <dc:type rdf:resource=\"http://purl.org/dc/dcmitype/StillImage\"/>\n    <dc:date>2021-09-07T10:15:36.517671</dc:date>\n    <dc:format>image/svg+xml</dc:format>\n    <dc:creator>\n     <cc:Agent>\n      <dc:title>Matplotlib v3.4.2, https://matplotlib.org/</dc:title>\n     </cc:Agent>\n    </dc:creator>\n   </cc:Work>\n  </rdf:RDF>\n </metadata>\n <defs>\n  <style type=\"text/css\">*{stroke-linecap:butt;stroke-linejoin:round;}</style>\n </defs>\n <g id=\"figure_1\">\n  <g id=\"patch_1\">\n   <path d=\"M 0 277.314375 \nL 388.965625 277.314375 \nL 388.965625 0 \nL 0 0 \nz\n\" style=\"fill:none;\"/>\n  </g>\n  <g id=\"axes_1\">\n   <g id=\"patch_2\">\n    <path d=\"M 46.965625 239.758125 \nL 381.765625 239.758125 \nL 381.765625 22.318125 \nL 46.965625 22.318125 \nz\n\" style=\"fill:#ffffff;\"/>\n   </g>\n   <g id=\"matplotlib.axis_1\">\n    <g id=\"xtick_1\">\n     <g id=\"line2d_1\">\n      <defs>\n       <path d=\"M 0 0 \nL 0 3.5 \n\" id=\"m3e0d021040\" style=\"stroke:#000000;stroke-width:0.8;\"/>\n      </defs>\n      <g>\n       <use style=\"stroke:#000000;stroke-width:0.8;\" x=\"96.001989\" xlink:href=\"#m3e0d021040\" y=\"239.758125\"/>\n      </g>\n     </g>\n     <g id=\"text_1\">\n      <!-- 2 -->\n      <g transform=\"translate(92.820739 254.356562)scale(0.1 -0.1)\">\n       <defs>\n        <path d=\"M 1228 531 \nL 3431 531 \nL 3431 0 \nL 469 0 \nL 469 531 \nQ 828 903 1448 1529 \nQ 2069 2156 2228 2338 \nQ 2531 2678 2651 2914 \nQ 2772 3150 2772 3378 \nQ 2772 3750 2511 3984 \nQ 2250 4219 1831 4219 \nQ 1534 4219 1204 4116 \nQ 875 4013 500 3803 \nL 500 4441 \nQ 881 4594 1212 4672 \nQ 1544 4750 1819 4750 \nQ 2544 4750 2975 4387 \nQ 3406 4025 3406 3419 \nQ 3406 3131 3298 2873 \nQ 3191 2616 2906 2266 \nQ 2828 2175 2409 1742 \nQ 1991 1309 1228 531 \nz\n\" id=\"DejaVuSans-32\" transform=\"scale(0.015625)\"/>\n       </defs>\n       <use xlink:href=\"#DejaVuSans-32\"/>\n      </g>\n     </g>\n    </g>\n    <g id=\"xtick_2\">\n     <g id=\"line2d_2\">\n      <g>\n       <use style=\"stroke:#000000;stroke-width:0.8;\" x=\"163.638352\" xlink:href=\"#m3e0d021040\" y=\"239.758125\"/>\n      </g>\n     </g>\n     <g id=\"text_2\">\n      <!-- 4 -->\n      <g transform=\"translate(160.457102 254.356562)scale(0.1 -0.1)\">\n       <defs>\n        <path d=\"M 2419 4116 \nL 825 1625 \nL 2419 1625 \nL 2419 4116 \nz\nM 2253 4666 \nL 3047 4666 \nL 3047 1625 \nL 3713 1625 \nL 3713 1100 \nL 3047 1100 \nL 3047 0 \nL 2419 0 \nL 2419 1100 \nL 313 1100 \nL 313 1709 \nL 2253 4666 \nz\n\" id=\"DejaVuSans-34\" transform=\"scale(0.015625)\"/>\n       </defs>\n       <use xlink:href=\"#DejaVuSans-34\"/>\n      </g>\n     </g>\n    </g>\n    <g id=\"xtick_3\">\n     <g id=\"line2d_3\">\n      <g>\n       <use style=\"stroke:#000000;stroke-width:0.8;\" x=\"231.274716\" xlink:href=\"#m3e0d021040\" y=\"239.758125\"/>\n      </g>\n     </g>\n     <g id=\"text_3\">\n      <!-- 6 -->\n      <g transform=\"translate(228.093466 254.356562)scale(0.1 -0.1)\">\n       <defs>\n        <path d=\"M 2113 2584 \nQ 1688 2584 1439 2293 \nQ 1191 2003 1191 1497 \nQ 1191 994 1439 701 \nQ 1688 409 2113 409 \nQ 2538 409 2786 701 \nQ 3034 994 3034 1497 \nQ 3034 2003 2786 2293 \nQ 2538 2584 2113 2584 \nz\nM 3366 4563 \nL 3366 3988 \nQ 3128 4100 2886 4159 \nQ 2644 4219 2406 4219 \nQ 1781 4219 1451 3797 \nQ 1122 3375 1075 2522 \nQ 1259 2794 1537 2939 \nQ 1816 3084 2150 3084 \nQ 2853 3084 3261 2657 \nQ 3669 2231 3669 1497 \nQ 3669 778 3244 343 \nQ 2819 -91 2113 -91 \nQ 1303 -91 875 529 \nQ 447 1150 447 2328 \nQ 447 3434 972 4092 \nQ 1497 4750 2381 4750 \nQ 2619 4750 2861 4703 \nQ 3103 4656 3366 4563 \nz\n\" id=\"DejaVuSans-36\" transform=\"scale(0.015625)\"/>\n       </defs>\n       <use xlink:href=\"#DejaVuSans-36\"/>\n      </g>\n     </g>\n    </g>\n    <g id=\"xtick_4\">\n     <g id=\"line2d_4\">\n      <g>\n       <use style=\"stroke:#000000;stroke-width:0.8;\" x=\"298.91108\" xlink:href=\"#m3e0d021040\" y=\"239.758125\"/>\n      </g>\n     </g>\n     <g id=\"text_4\">\n      <!-- 8 -->\n      <g transform=\"translate(295.72983 254.356562)scale(0.1 -0.1)\">\n       <defs>\n        <path d=\"M 2034 2216 \nQ 1584 2216 1326 1975 \nQ 1069 1734 1069 1313 \nQ 1069 891 1326 650 \nQ 1584 409 2034 409 \nQ 2484 409 2743 651 \nQ 3003 894 3003 1313 \nQ 3003 1734 2745 1975 \nQ 2488 2216 2034 2216 \nz\nM 1403 2484 \nQ 997 2584 770 2862 \nQ 544 3141 544 3541 \nQ 544 4100 942 4425 \nQ 1341 4750 2034 4750 \nQ 2731 4750 3128 4425 \nQ 3525 4100 3525 3541 \nQ 3525 3141 3298 2862 \nQ 3072 2584 2669 2484 \nQ 3125 2378 3379 2068 \nQ 3634 1759 3634 1313 \nQ 3634 634 3220 271 \nQ 2806 -91 2034 -91 \nQ 1263 -91 848 271 \nQ 434 634 434 1313 \nQ 434 1759 690 2068 \nQ 947 2378 1403 2484 \nz\nM 1172 3481 \nQ 1172 3119 1398 2916 \nQ 1625 2713 2034 2713 \nQ 2441 2713 2670 2916 \nQ 2900 3119 2900 3481 \nQ 2900 3844 2670 4047 \nQ 2441 4250 2034 4250 \nQ 1625 4250 1398 4047 \nQ 1172 3844 1172 3481 \nz\n\" id=\"DejaVuSans-38\" transform=\"scale(0.015625)\"/>\n       </defs>\n       <use xlink:href=\"#DejaVuSans-38\"/>\n      </g>\n     </g>\n    </g>\n    <g id=\"xtick_5\">\n     <g id=\"line2d_5\">\n      <g>\n       <use style=\"stroke:#000000;stroke-width:0.8;\" x=\"366.547443\" xlink:href=\"#m3e0d021040\" y=\"239.758125\"/>\n      </g>\n     </g>\n     <g id=\"text_5\">\n      <!-- 10 -->\n      <g transform=\"translate(360.184943 254.356562)scale(0.1 -0.1)\">\n       <defs>\n        <path d=\"M 794 531 \nL 1825 531 \nL 1825 4091 \nL 703 3866 \nL 703 4441 \nL 1819 4666 \nL 2450 4666 \nL 2450 531 \nL 3481 531 \nL 3481 0 \nL 794 0 \nL 794 531 \nz\n\" id=\"DejaVuSans-31\" transform=\"scale(0.015625)\"/>\n        <path d=\"M 2034 4250 \nQ 1547 4250 1301 3770 \nQ 1056 3291 1056 2328 \nQ 1056 1369 1301 889 \nQ 1547 409 2034 409 \nQ 2525 409 2770 889 \nQ 3016 1369 3016 2328 \nQ 3016 3291 2770 3770 \nQ 2525 4250 2034 4250 \nz\nM 2034 4750 \nQ 2819 4750 3233 4129 \nQ 3647 3509 3647 2328 \nQ 3647 1150 3233 529 \nQ 2819 -91 2034 -91 \nQ 1250 -91 836 529 \nQ 422 1150 422 2328 \nQ 422 3509 836 4129 \nQ 1250 4750 2034 4750 \nz\n\" id=\"DejaVuSans-30\" transform=\"scale(0.015625)\"/>\n       </defs>\n       <use xlink:href=\"#DejaVuSans-31\"/>\n       <use x=\"63.623047\" xlink:href=\"#DejaVuSans-30\"/>\n      </g>\n     </g>\n    </g>\n    <g id=\"text_6\">\n     <!-- Number of clusters -->\n     <g transform=\"translate(166.673438 268.034687)scale(0.1 -0.1)\">\n      <defs>\n       <path d=\"M 628 4666 \nL 1478 4666 \nL 3547 763 \nL 3547 4666 \nL 4159 4666 \nL 4159 0 \nL 3309 0 \nL 1241 3903 \nL 1241 0 \nL 628 0 \nL 628 4666 \nz\n\" id=\"DejaVuSans-4e\" transform=\"scale(0.015625)\"/>\n       <path d=\"M 544 1381 \nL 544 3500 \nL 1119 3500 \nL 1119 1403 \nQ 1119 906 1312 657 \nQ 1506 409 1894 409 \nQ 2359 409 2629 706 \nQ 2900 1003 2900 1516 \nL 2900 3500 \nL 3475 3500 \nL 3475 0 \nL 2900 0 \nL 2900 538 \nQ 2691 219 2414 64 \nQ 2138 -91 1772 -91 \nQ 1169 -91 856 284 \nQ 544 659 544 1381 \nz\nM 1991 3584 \nL 1991 3584 \nz\n\" id=\"DejaVuSans-75\" transform=\"scale(0.015625)\"/>\n       <path d=\"M 3328 2828 \nQ 3544 3216 3844 3400 \nQ 4144 3584 4550 3584 \nQ 5097 3584 5394 3201 \nQ 5691 2819 5691 2113 \nL 5691 0 \nL 5113 0 \nL 5113 2094 \nQ 5113 2597 4934 2840 \nQ 4756 3084 4391 3084 \nQ 3944 3084 3684 2787 \nQ 3425 2491 3425 1978 \nL 3425 0 \nL 2847 0 \nL 2847 2094 \nQ 2847 2600 2669 2842 \nQ 2491 3084 2119 3084 \nQ 1678 3084 1418 2786 \nQ 1159 2488 1159 1978 \nL 1159 0 \nL 581 0 \nL 581 3500 \nL 1159 3500 \nL 1159 2956 \nQ 1356 3278 1631 3431 \nQ 1906 3584 2284 3584 \nQ 2666 3584 2933 3390 \nQ 3200 3197 3328 2828 \nz\n\" id=\"DejaVuSans-6d\" transform=\"scale(0.015625)\"/>\n       <path d=\"M 3116 1747 \nQ 3116 2381 2855 2742 \nQ 2594 3103 2138 3103 \nQ 1681 3103 1420 2742 \nQ 1159 2381 1159 1747 \nQ 1159 1113 1420 752 \nQ 1681 391 2138 391 \nQ 2594 391 2855 752 \nQ 3116 1113 3116 1747 \nz\nM 1159 2969 \nQ 1341 3281 1617 3432 \nQ 1894 3584 2278 3584 \nQ 2916 3584 3314 3078 \nQ 3713 2572 3713 1747 \nQ 3713 922 3314 415 \nQ 2916 -91 2278 -91 \nQ 1894 -91 1617 61 \nQ 1341 213 1159 525 \nL 1159 0 \nL 581 0 \nL 581 4863 \nL 1159 4863 \nL 1159 2969 \nz\n\" id=\"DejaVuSans-62\" transform=\"scale(0.015625)\"/>\n       <path d=\"M 3597 1894 \nL 3597 1613 \nL 953 1613 \nQ 991 1019 1311 708 \nQ 1631 397 2203 397 \nQ 2534 397 2845 478 \nQ 3156 559 3463 722 \nL 3463 178 \nQ 3153 47 2828 -22 \nQ 2503 -91 2169 -91 \nQ 1331 -91 842 396 \nQ 353 884 353 1716 \nQ 353 2575 817 3079 \nQ 1281 3584 2069 3584 \nQ 2775 3584 3186 3129 \nQ 3597 2675 3597 1894 \nz\nM 3022 2063 \nQ 3016 2534 2758 2815 \nQ 2500 3097 2075 3097 \nQ 1594 3097 1305 2825 \nQ 1016 2553 972 2059 \nL 3022 2063 \nz\n\" id=\"DejaVuSans-65\" transform=\"scale(0.015625)\"/>\n       <path d=\"M 2631 2963 \nQ 2534 3019 2420 3045 \nQ 2306 3072 2169 3072 \nQ 1681 3072 1420 2755 \nQ 1159 2438 1159 1844 \nL 1159 0 \nL 581 0 \nL 581 3500 \nL 1159 3500 \nL 1159 2956 \nQ 1341 3275 1631 3429 \nQ 1922 3584 2338 3584 \nQ 2397 3584 2469 3576 \nQ 2541 3569 2628 3553 \nL 2631 2963 \nz\n\" id=\"DejaVuSans-72\" transform=\"scale(0.015625)\"/>\n       <path id=\"DejaVuSans-20\" transform=\"scale(0.015625)\"/>\n       <path d=\"M 1959 3097 \nQ 1497 3097 1228 2736 \nQ 959 2375 959 1747 \nQ 959 1119 1226 758 \nQ 1494 397 1959 397 \nQ 2419 397 2687 759 \nQ 2956 1122 2956 1747 \nQ 2956 2369 2687 2733 \nQ 2419 3097 1959 3097 \nz\nM 1959 3584 \nQ 2709 3584 3137 3096 \nQ 3566 2609 3566 1747 \nQ 3566 888 3137 398 \nQ 2709 -91 1959 -91 \nQ 1206 -91 779 398 \nQ 353 888 353 1747 \nQ 353 2609 779 3096 \nQ 1206 3584 1959 3584 \nz\n\" id=\"DejaVuSans-6f\" transform=\"scale(0.015625)\"/>\n       <path d=\"M 2375 4863 \nL 2375 4384 \nL 1825 4384 \nQ 1516 4384 1395 4259 \nQ 1275 4134 1275 3809 \nL 1275 3500 \nL 2222 3500 \nL 2222 3053 \nL 1275 3053 \nL 1275 0 \nL 697 0 \nL 697 3053 \nL 147 3053 \nL 147 3500 \nL 697 3500 \nL 697 3744 \nQ 697 4328 969 4595 \nQ 1241 4863 1831 4863 \nL 2375 4863 \nz\n\" id=\"DejaVuSans-66\" transform=\"scale(0.015625)\"/>\n       <path d=\"M 3122 3366 \nL 3122 2828 \nQ 2878 2963 2633 3030 \nQ 2388 3097 2138 3097 \nQ 1578 3097 1268 2742 \nQ 959 2388 959 1747 \nQ 959 1106 1268 751 \nQ 1578 397 2138 397 \nQ 2388 397 2633 464 \nQ 2878 531 3122 666 \nL 3122 134 \nQ 2881 22 2623 -34 \nQ 2366 -91 2075 -91 \nQ 1284 -91 818 406 \nQ 353 903 353 1747 \nQ 353 2603 823 3093 \nQ 1294 3584 2113 3584 \nQ 2378 3584 2631 3529 \nQ 2884 3475 3122 3366 \nz\n\" id=\"DejaVuSans-63\" transform=\"scale(0.015625)\"/>\n       <path d=\"M 603 4863 \nL 1178 4863 \nL 1178 0 \nL 603 0 \nL 603 4863 \nz\n\" id=\"DejaVuSans-6c\" transform=\"scale(0.015625)\"/>\n       <path d=\"M 2834 3397 \nL 2834 2853 \nQ 2591 2978 2328 3040 \nQ 2066 3103 1784 3103 \nQ 1356 3103 1142 2972 \nQ 928 2841 928 2578 \nQ 928 2378 1081 2264 \nQ 1234 2150 1697 2047 \nL 1894 2003 \nQ 2506 1872 2764 1633 \nQ 3022 1394 3022 966 \nQ 3022 478 2636 193 \nQ 2250 -91 1575 -91 \nQ 1294 -91 989 -36 \nQ 684 19 347 128 \nL 347 722 \nQ 666 556 975 473 \nQ 1284 391 1588 391 \nQ 1994 391 2212 530 \nQ 2431 669 2431 922 \nQ 2431 1156 2273 1281 \nQ 2116 1406 1581 1522 \nL 1381 1569 \nQ 847 1681 609 1914 \nQ 372 2147 372 2553 \nQ 372 3047 722 3315 \nQ 1072 3584 1716 3584 \nQ 2034 3584 2315 3537 \nQ 2597 3491 2834 3397 \nz\n\" id=\"DejaVuSans-73\" transform=\"scale(0.015625)\"/>\n       <path d=\"M 1172 4494 \nL 1172 3500 \nL 2356 3500 \nL 2356 3053 \nL 1172 3053 \nL 1172 1153 \nQ 1172 725 1289 603 \nQ 1406 481 1766 481 \nL 2356 481 \nL 2356 0 \nL 1766 0 \nQ 1100 0 847 248 \nQ 594 497 594 1153 \nL 594 3053 \nL 172 3053 \nL 172 3500 \nL 594 3500 \nL 594 4494 \nL 1172 4494 \nz\n\" id=\"DejaVuSans-74\" transform=\"scale(0.015625)\"/>\n      </defs>\n      <use xlink:href=\"#DejaVuSans-4e\"/>\n      <use x=\"74.804688\" xlink:href=\"#DejaVuSans-75\"/>\n      <use x=\"138.183594\" xlink:href=\"#DejaVuSans-6d\"/>\n      <use x=\"235.595703\" xlink:href=\"#DejaVuSans-62\"/>\n      <use x=\"299.072266\" xlink:href=\"#DejaVuSans-65\"/>\n      <use x=\"360.595703\" xlink:href=\"#DejaVuSans-72\"/>\n      <use x=\"401.708984\" xlink:href=\"#DejaVuSans-20\"/>\n      <use x=\"433.496094\" xlink:href=\"#DejaVuSans-6f\"/>\n      <use x=\"494.677734\" xlink:href=\"#DejaVuSans-66\"/>\n      <use x=\"529.882812\" xlink:href=\"#DejaVuSans-20\"/>\n      <use x=\"561.669922\" xlink:href=\"#DejaVuSans-63\"/>\n      <use x=\"616.650391\" xlink:href=\"#DejaVuSans-6c\"/>\n      <use x=\"644.433594\" xlink:href=\"#DejaVuSans-75\"/>\n      <use x=\"707.8125\" xlink:href=\"#DejaVuSans-73\"/>\n      <use x=\"759.912109\" xlink:href=\"#DejaVuSans-74\"/>\n      <use x=\"799.121094\" xlink:href=\"#DejaVuSans-65\"/>\n      <use x=\"860.644531\" xlink:href=\"#DejaVuSans-72\"/>\n      <use x=\"901.757812\" xlink:href=\"#DejaVuSans-73\"/>\n     </g>\n    </g>\n   </g>\n   <g id=\"matplotlib.axis_2\">\n    <g id=\"ytick_1\">\n     <g id=\"line2d_6\">\n      <defs>\n       <path d=\"M 0 0 \nL -3.5 0 \n\" id=\"m65a1c27a30\" style=\"stroke:#000000;stroke-width:0.8;\"/>\n      </defs>\n      <g>\n       <use style=\"stroke:#000000;stroke-width:0.8;\" x=\"46.965625\" xlink:href=\"#m65a1c27a30\" y=\"235.475099\"/>\n      </g>\n     </g>\n     <g id=\"text_7\">\n      <!-- 0 -->\n      <g transform=\"translate(33.603125 239.274318)scale(0.1 -0.1)\">\n       <use xlink:href=\"#DejaVuSans-30\"/>\n      </g>\n     </g>\n    </g>\n    <g id=\"ytick_2\">\n     <g id=\"line2d_7\">\n      <g>\n       <use style=\"stroke:#000000;stroke-width:0.8;\" x=\"46.965625\" xlink:href=\"#m65a1c27a30\" y=\"201.59621\"/>\n      </g>\n     </g>\n     <g id=\"text_8\">\n      <!-- 50 -->\n      <g transform=\"translate(27.240625 205.395428)scale(0.1 -0.1)\">\n       <defs>\n        <path d=\"M 691 4666 \nL 3169 4666 \nL 3169 4134 \nL 1269 4134 \nL 1269 2991 \nQ 1406 3038 1543 3061 \nQ 1681 3084 1819 3084 \nQ 2600 3084 3056 2656 \nQ 3513 2228 3513 1497 \nQ 3513 744 3044 326 \nQ 2575 -91 1722 -91 \nQ 1428 -91 1123 -41 \nQ 819 9 494 109 \nL 494 744 \nQ 775 591 1075 516 \nQ 1375 441 1709 441 \nQ 2250 441 2565 725 \nQ 2881 1009 2881 1497 \nQ 2881 1984 2565 2268 \nQ 2250 2553 1709 2553 \nQ 1456 2553 1204 2497 \nQ 953 2441 691 2322 \nL 691 4666 \nz\n\" id=\"DejaVuSans-35\" transform=\"scale(0.015625)\"/>\n       </defs>\n       <use xlink:href=\"#DejaVuSans-35\"/>\n       <use x=\"63.623047\" xlink:href=\"#DejaVuSans-30\"/>\n      </g>\n     </g>\n    </g>\n    <g id=\"ytick_3\">\n     <g id=\"line2d_8\">\n      <g>\n       <use style=\"stroke:#000000;stroke-width:0.8;\" x=\"46.965625\" xlink:href=\"#m65a1c27a30\" y=\"167.71732\"/>\n      </g>\n     </g>\n     <g id=\"text_9\">\n      <!-- 100 -->\n      <g transform=\"translate(20.878125 171.516539)scale(0.1 -0.1)\">\n       <use xlink:href=\"#DejaVuSans-31\"/>\n       <use x=\"63.623047\" xlink:href=\"#DejaVuSans-30\"/>\n       <use x=\"127.246094\" xlink:href=\"#DejaVuSans-30\"/>\n      </g>\n     </g>\n    </g>\n    <g id=\"ytick_4\">\n     <g id=\"line2d_9\">\n      <g>\n       <use style=\"stroke:#000000;stroke-width:0.8;\" x=\"46.965625\" xlink:href=\"#m65a1c27a30\" y=\"133.83843\"/>\n      </g>\n     </g>\n     <g id=\"text_10\">\n      <!-- 150 -->\n      <g transform=\"translate(20.878125 137.637649)scale(0.1 -0.1)\">\n       <use xlink:href=\"#DejaVuSans-31\"/>\n       <use x=\"63.623047\" xlink:href=\"#DejaVuSans-35\"/>\n       <use x=\"127.246094\" xlink:href=\"#DejaVuSans-30\"/>\n      </g>\n     </g>\n    </g>\n    <g id=\"ytick_5\">\n     <g id=\"line2d_10\">\n      <g>\n       <use style=\"stroke:#000000;stroke-width:0.8;\" x=\"46.965625\" xlink:href=\"#m65a1c27a30\" y=\"99.959541\"/>\n      </g>\n     </g>\n     <g id=\"text_11\">\n      <!-- 200 -->\n      <g transform=\"translate(20.878125 103.758759)scale(0.1 -0.1)\">\n       <use xlink:href=\"#DejaVuSans-32\"/>\n       <use x=\"63.623047\" xlink:href=\"#DejaVuSans-30\"/>\n       <use x=\"127.246094\" xlink:href=\"#DejaVuSans-30\"/>\n      </g>\n     </g>\n    </g>\n    <g id=\"ytick_6\">\n     <g id=\"line2d_11\">\n      <g>\n       <use style=\"stroke:#000000;stroke-width:0.8;\" x=\"46.965625\" xlink:href=\"#m65a1c27a30\" y=\"66.080651\"/>\n      </g>\n     </g>\n     <g id=\"text_12\">\n      <!-- 250 -->\n      <g transform=\"translate(20.878125 69.87987)scale(0.1 -0.1)\">\n       <use xlink:href=\"#DejaVuSans-32\"/>\n       <use x=\"63.623047\" xlink:href=\"#DejaVuSans-35\"/>\n       <use x=\"127.246094\" xlink:href=\"#DejaVuSans-30\"/>\n      </g>\n     </g>\n    </g>\n    <g id=\"ytick_7\">\n     <g id=\"line2d_12\">\n      <g>\n       <use style=\"stroke:#000000;stroke-width:0.8;\" x=\"46.965625\" xlink:href=\"#m65a1c27a30\" y=\"32.201761\"/>\n      </g>\n     </g>\n     <g id=\"text_13\">\n      <!-- 300 -->\n      <g transform=\"translate(20.878125 36.00098)scale(0.1 -0.1)\">\n       <defs>\n        <path d=\"M 2597 2516 \nQ 3050 2419 3304 2112 \nQ 3559 1806 3559 1356 \nQ 3559 666 3084 287 \nQ 2609 -91 1734 -91 \nQ 1441 -91 1130 -33 \nQ 819 25 488 141 \nL 488 750 \nQ 750 597 1062 519 \nQ 1375 441 1716 441 \nQ 2309 441 2620 675 \nQ 2931 909 2931 1356 \nQ 2931 1769 2642 2001 \nQ 2353 2234 1838 2234 \nL 1294 2234 \nL 1294 2753 \nL 1863 2753 \nQ 2328 2753 2575 2939 \nQ 2822 3125 2822 3475 \nQ 2822 3834 2567 4026 \nQ 2313 4219 1838 4219 \nQ 1578 4219 1281 4162 \nQ 984 4106 628 3988 \nL 628 4550 \nQ 988 4650 1302 4700 \nQ 1616 4750 1894 4750 \nQ 2613 4750 3031 4423 \nQ 3450 4097 3450 3541 \nQ 3450 3153 3228 2886 \nQ 3006 2619 2597 2516 \nz\n\" id=\"DejaVuSans-33\" transform=\"scale(0.015625)\"/>\n       </defs>\n       <use xlink:href=\"#DejaVuSans-33\"/>\n       <use x=\"63.623047\" xlink:href=\"#DejaVuSans-30\"/>\n       <use x=\"127.246094\" xlink:href=\"#DejaVuSans-30\"/>\n      </g>\n     </g>\n    </g>\n    <g id=\"text_14\">\n     <!-- Within-cluster SSQ -->\n     <g transform=\"translate(14.798438 177.626406)rotate(-90)scale(0.1 -0.1)\">\n      <defs>\n       <path d=\"M 213 4666 \nL 850 4666 \nL 1831 722 \nL 2809 4666 \nL 3519 4666 \nL 4500 722 \nL 5478 4666 \nL 6119 4666 \nL 4947 0 \nL 4153 0 \nL 3169 4050 \nL 2175 0 \nL 1381 0 \nL 213 4666 \nz\n\" id=\"DejaVuSans-57\" transform=\"scale(0.015625)\"/>\n       <path d=\"M 603 3500 \nL 1178 3500 \nL 1178 0 \nL 603 0 \nL 603 3500 \nz\nM 603 4863 \nL 1178 4863 \nL 1178 4134 \nL 603 4134 \nL 603 4863 \nz\n\" id=\"DejaVuSans-69\" transform=\"scale(0.015625)\"/>\n       <path d=\"M 3513 2113 \nL 3513 0 \nL 2938 0 \nL 2938 2094 \nQ 2938 2591 2744 2837 \nQ 2550 3084 2163 3084 \nQ 1697 3084 1428 2787 \nQ 1159 2491 1159 1978 \nL 1159 0 \nL 581 0 \nL 581 4863 \nL 1159 4863 \nL 1159 2956 \nQ 1366 3272 1645 3428 \nQ 1925 3584 2291 3584 \nQ 2894 3584 3203 3211 \nQ 3513 2838 3513 2113 \nz\n\" id=\"DejaVuSans-68\" transform=\"scale(0.015625)\"/>\n       <path d=\"M 3513 2113 \nL 3513 0 \nL 2938 0 \nL 2938 2094 \nQ 2938 2591 2744 2837 \nQ 2550 3084 2163 3084 \nQ 1697 3084 1428 2787 \nQ 1159 2491 1159 1978 \nL 1159 0 \nL 581 0 \nL 581 3500 \nL 1159 3500 \nL 1159 2956 \nQ 1366 3272 1645 3428 \nQ 1925 3584 2291 3584 \nQ 2894 3584 3203 3211 \nQ 3513 2838 3513 2113 \nz\n\" id=\"DejaVuSans-6e\" transform=\"scale(0.015625)\"/>\n       <path d=\"M 313 2009 \nL 1997 2009 \nL 1997 1497 \nL 313 1497 \nL 313 2009 \nz\n\" id=\"DejaVuSans-2d\" transform=\"scale(0.015625)\"/>\n       <path d=\"M 3425 4513 \nL 3425 3897 \nQ 3066 4069 2747 4153 \nQ 2428 4238 2131 4238 \nQ 1616 4238 1336 4038 \nQ 1056 3838 1056 3469 \nQ 1056 3159 1242 3001 \nQ 1428 2844 1947 2747 \nL 2328 2669 \nQ 3034 2534 3370 2195 \nQ 3706 1856 3706 1288 \nQ 3706 609 3251 259 \nQ 2797 -91 1919 -91 \nQ 1588 -91 1214 -16 \nQ 841 59 441 206 \nL 441 856 \nQ 825 641 1194 531 \nQ 1563 422 1919 422 \nQ 2459 422 2753 634 \nQ 3047 847 3047 1241 \nQ 3047 1584 2836 1778 \nQ 2625 1972 2144 2069 \nL 1759 2144 \nQ 1053 2284 737 2584 \nQ 422 2884 422 3419 \nQ 422 4038 858 4394 \nQ 1294 4750 2059 4750 \nQ 2388 4750 2728 4690 \nQ 3069 4631 3425 4513 \nz\n\" id=\"DejaVuSans-53\" transform=\"scale(0.015625)\"/>\n       <path d=\"M 2522 4238 \nQ 1834 4238 1429 3725 \nQ 1025 3213 1025 2328 \nQ 1025 1447 1429 934 \nQ 1834 422 2522 422 \nQ 3209 422 3611 934 \nQ 4013 1447 4013 2328 \nQ 4013 3213 3611 3725 \nQ 3209 4238 2522 4238 \nz\nM 3406 84 \nL 4238 -825 \nL 3475 -825 \nL 2784 -78 \nQ 2681 -84 2626 -87 \nQ 2572 -91 2522 -91 \nQ 1538 -91 948 567 \nQ 359 1225 359 2328 \nQ 359 3434 948 4092 \nQ 1538 4750 2522 4750 \nQ 3503 4750 4090 4092 \nQ 4678 3434 4678 2328 \nQ 4678 1516 4351 937 \nQ 4025 359 3406 84 \nz\n\" id=\"DejaVuSans-51\" transform=\"scale(0.015625)\"/>\n      </defs>\n      <use xlink:href=\"#DejaVuSans-57\"/>\n      <use x=\"96.626953\" xlink:href=\"#DejaVuSans-69\"/>\n      <use x=\"124.410156\" xlink:href=\"#DejaVuSans-74\"/>\n      <use x=\"163.619141\" xlink:href=\"#DejaVuSans-68\"/>\n      <use x=\"226.998047\" xlink:href=\"#DejaVuSans-69\"/>\n      <use x=\"254.78125\" xlink:href=\"#DejaVuSans-6e\"/>\n      <use x=\"318.160156\" xlink:href=\"#DejaVuSans-2d\"/>\n      <use x=\"354.244141\" xlink:href=\"#DejaVuSans-63\"/>\n      <use x=\"409.224609\" xlink:href=\"#DejaVuSans-6c\"/>\n      <use x=\"437.007812\" xlink:href=\"#DejaVuSans-75\"/>\n      <use x=\"500.386719\" xlink:href=\"#DejaVuSans-73\"/>\n      <use x=\"552.486328\" xlink:href=\"#DejaVuSans-74\"/>\n      <use x=\"591.695312\" xlink:href=\"#DejaVuSans-65\"/>\n      <use x=\"653.21875\" xlink:href=\"#DejaVuSans-72\"/>\n      <use x=\"694.332031\" xlink:href=\"#DejaVuSans-20\"/>\n      <use x=\"726.119141\" xlink:href=\"#DejaVuSans-53\"/>\n      <use x=\"789.595703\" xlink:href=\"#DejaVuSans-53\"/>\n      <use x=\"853.072266\" xlink:href=\"#DejaVuSans-51\"/>\n     </g>\n    </g>\n   </g>\n   <g id=\"line2d_13\">\n    <path clip-path=\"url(#pa24fd9c4a6)\" d=\"M 62.183807 32.201761 \nL 96.001989 190.061859 \nL 129.82017 207.118811 \nL 163.638352 214.853379 \nL 197.456534 220.706952 \nL 231.274716 224.72227 \nL 265.092898 226.976817 \nL 298.91108 228.257223 \nL 332.729261 229.076834 \nL 366.547443 229.874489 \n\" style=\"fill:none;stroke:#1f77b4;stroke-linecap:square;stroke-width:1.5;\"/>\n    <defs>\n     <path d=\"M 0 3 \nC 0.795609 3 1.55874 2.683901 2.12132 2.12132 \nC 2.683901 1.55874 3 0.795609 3 0 \nC 3 -0.795609 2.683901 -1.55874 2.12132 -2.12132 \nC 1.55874 -2.683901 0.795609 -3 0 -3 \nC -0.795609 -3 -1.55874 -2.683901 -2.12132 -2.12132 \nC -2.683901 -1.55874 -3 -0.795609 -3 0 \nC -3 0.795609 -2.683901 1.55874 -2.12132 2.12132 \nC -1.55874 2.683901 -0.795609 3 0 3 \nz\n\" id=\"m696fca1b3e\" style=\"stroke:#1f77b4;\"/>\n    </defs>\n    <g clip-path=\"url(#pa24fd9c4a6)\">\n     <use style=\"fill:#1f77b4;stroke:#1f77b4;\" x=\"62.183807\" xlink:href=\"#m696fca1b3e\" y=\"32.201761\"/>\n     <use style=\"fill:#1f77b4;stroke:#1f77b4;\" x=\"96.001989\" xlink:href=\"#m696fca1b3e\" y=\"190.061859\"/>\n     <use style=\"fill:#1f77b4;stroke:#1f77b4;\" x=\"129.82017\" xlink:href=\"#m696fca1b3e\" y=\"207.118811\"/>\n     <use style=\"fill:#1f77b4;stroke:#1f77b4;\" x=\"163.638352\" xlink:href=\"#m696fca1b3e\" y=\"214.853379\"/>\n     <use style=\"fill:#1f77b4;stroke:#1f77b4;\" x=\"197.456534\" xlink:href=\"#m696fca1b3e\" y=\"220.706952\"/>\n     <use style=\"fill:#1f77b4;stroke:#1f77b4;\" x=\"231.274716\" xlink:href=\"#m696fca1b3e\" y=\"224.72227\"/>\n     <use style=\"fill:#1f77b4;stroke:#1f77b4;\" x=\"265.092898\" xlink:href=\"#m696fca1b3e\" y=\"226.976817\"/>\n     <use style=\"fill:#1f77b4;stroke:#1f77b4;\" x=\"298.91108\" xlink:href=\"#m696fca1b3e\" y=\"228.257223\"/>\n     <use style=\"fill:#1f77b4;stroke:#1f77b4;\" x=\"332.729261\" xlink:href=\"#m696fca1b3e\" y=\"229.076834\"/>\n     <use style=\"fill:#1f77b4;stroke:#1f77b4;\" x=\"366.547443\" xlink:href=\"#m696fca1b3e\" y=\"229.874489\"/>\n    </g>\n   </g>\n   <g id=\"patch_3\">\n    <path d=\"M 46.965625 239.758125 \nL 46.965625 22.318125 \n\" style=\"fill:none;stroke:#000000;stroke-linecap:square;stroke-linejoin:miter;stroke-width:0.8;\"/>\n   </g>\n   <g id=\"patch_4\">\n    <path d=\"M 381.765625 239.758125 \nL 381.765625 22.318125 \n\" style=\"fill:none;stroke:#000000;stroke-linecap:square;stroke-linejoin:miter;stroke-width:0.8;\"/>\n   </g>\n   <g id=\"patch_5\">\n    <path d=\"M 46.965625 239.758125 \nL 381.765625 239.758125 \n\" style=\"fill:none;stroke:#000000;stroke-linecap:square;stroke-linejoin:miter;stroke-width:0.8;\"/>\n   </g>\n   <g id=\"patch_6\">\n    <path d=\"M 46.965625 22.318125 \nL 381.765625 22.318125 \n\" style=\"fill:none;stroke:#000000;stroke-linecap:square;stroke-linejoin:miter;stroke-width:0.8;\"/>\n   </g>\n   <g id=\"text_15\">\n    <!-- SSQ Plot -->\n    <g transform=\"translate(188.809375 16.318125)scale(0.12 -0.12)\">\n     <defs>\n      <path d=\"M 1259 4147 \nL 1259 2394 \nL 2053 2394 \nQ 2494 2394 2734 2622 \nQ 2975 2850 2975 3272 \nQ 2975 3691 2734 3919 \nQ 2494 4147 2053 4147 \nL 1259 4147 \nz\nM 628 4666 \nL 2053 4666 \nQ 2838 4666 3239 4311 \nQ 3641 3956 3641 3272 \nQ 3641 2581 3239 2228 \nQ 2838 1875 2053 1875 \nL 1259 1875 \nL 1259 0 \nL 628 0 \nL 628 4666 \nz\n\" id=\"DejaVuSans-50\" transform=\"scale(0.015625)\"/>\n     </defs>\n     <use xlink:href=\"#DejaVuSans-53\"/>\n     <use x=\"63.476562\" xlink:href=\"#DejaVuSans-53\"/>\n     <use x=\"126.953125\" xlink:href=\"#DejaVuSans-51\"/>\n     <use x=\"205.664062\" xlink:href=\"#DejaVuSans-20\"/>\n     <use x=\"237.451172\" xlink:href=\"#DejaVuSans-50\"/>\n     <use x=\"297.753906\" xlink:href=\"#DejaVuSans-6c\"/>\n     <use x=\"325.537109\" xlink:href=\"#DejaVuSans-6f\"/>\n     <use x=\"386.71875\" xlink:href=\"#DejaVuSans-74\"/>\n    </g>\n   </g>\n  </g>\n </g>\n <defs>\n  <clipPath id=\"pa24fd9c4a6\">\n   <rect height=\"217.44\" width=\"334.8\" x=\"46.965625\" y=\"22.318125\"/>\n  </clipPath>\n </defs>\n</svg>\n",
            "image/png": "[encoded data removed]"
          },
          "metadata": {
            "needs_background": "light"
          }
        }
      ],
      "metadata": {
        "colab": {
          "base_uri": "https://localhost:8080/",
          "height": 295
        },
        "id": "iMBYSVV77pzs",
        "outputId": "65c98303-cf56-47e4-e015-aef55e7d0bb3"
      }
    },
    {
      "cell_type": "code",
      "execution_count": 23,
      "source": [
        "my_model = KMeans(n_clusters=3, random_state=123)"
      ],
      "outputs": [],
      "metadata": {
        "id": "4V_0mVXH7r2_"
      }
    },
    {
      "cell_type": "code",
      "execution_count": 24,
      "source": [
        "result= my_model.fit(df_scaled)"
      ],
      "outputs": [],
      "metadata": {
        "id": "jKaZSYjw7uYW"
      }
    },
    {
      "cell_type": "code",
      "execution_count": 25,
      "source": [
        "predictions = result.predict(df_scaled)"
      ],
      "outputs": [],
      "metadata": {
        "id": "_il__JcM7v39"
      }
    },
    {
      "cell_type": "code",
      "execution_count": 26,
      "source": [
        "predictions[:5] "
      ],
      "outputs": [
        {
          "output_type": "execute_result",
          "data": {
            "text/plain": [
              "array([1, 2, 1, 2, 0], dtype=int32)"
            ]
          },
          "metadata": {},
          "execution_count": 26
        }
      ],
      "metadata": {
        "colab": {
          "base_uri": "https://localhost:8080/"
        },
        "id": "sJHVfpP-7xFy",
        "outputId": "ae2c92ee-a032-4b24-e333-49d011393566"
      }
    },
    {
      "cell_type": "code",
      "execution_count": 27,
      "source": [
        "pred_new = list(result.predict([[9.3,5.36]]))\n",
        "pred_new"
      ],
      "outputs": [
        {
          "output_type": "execute_result",
          "data": {
            "text/plain": [
              "[1]"
            ]
          },
          "metadata": {},
          "execution_count": 27
        }
      ],
      "metadata": {
        "colab": {
          "base_uri": "https://localhost:8080/"
        },
        "id": "19SkYwVL7yJK",
        "outputId": "5b20909a-d7e5-4ab5-fe32-aa2cc75effde"
      }
    },
    {
      "cell_type": "code",
      "execution_count": 28,
      "source": [
        "plt.scatter(df_scaled[predictions==0,0], df_scaled[predictions==0, 1], s=50, c='lightgreen',\\\n",
        "           marker='s', edgecolors='black', label='cluster 1')\n",
        "plt.scatter(df_scaled[predictions==1,0], df_scaled[predictions==1, 1], s=50, c='orange',\\\n",
        "           marker='o', edgecolors='black', label='cluster 2')\n",
        "plt.scatter(df_scaled[predictions==2,0], df_scaled[predictions==2, 1], s=50, c='lightblue',\\\n",
        "           marker='v', edgecolors='black', label='cluster 3')\n",
        "plt.scatter(result.cluster_centers_[:,0], result.cluster_centers_[:,1], s=250, c='red',\\\n",
        "           marker='*', edgecolors='black', label='centroids')\n",
        "plt.legend(scatterpoints=1)\n",
        "plt.xlabel(\"Brand Loyalty Score\")\n",
        "plt.ylabel(\"Price Sensitivity Score\")\n",
        "plt.title(\"Clustering Output\")\n",
        "plt.show()\n"
      ],
      "outputs": [
        {
          "output_type": "display_data",
          "data": {
            "text/plain": [
              "<Figure size 432x288 with 1 Axes>"
            ],
            "image/svg+xml": "<?xml version=\"1.0\" encoding=\"utf-8\" standalone=\"no\"?>\n<!DOCTYPE svg PUBLIC \"-//W3C//DTD SVG 1.1//EN\"\n  \"http://www.w3.org/Graphics/SVG/1.1/DTD/svg11.dtd\">\n<svg height=\"277.314375pt\" version=\"1.1\" viewBox=\"0 0 384.620312 277.314375\" width=\"384.620312pt\" xmlns=\"http://www.w3.org/2000/svg\" xmlns:xlink=\"http://www.w3.org/1999/xlink\">\n <metadata>\n  <rdf:RDF xmlns:cc=\"http://creativecommons.org/ns#\" xmlns:dc=\"http://purl.org/dc/elements/1.1/\" xmlns:rdf=\"http://www.w3.org/1999/02/22-rdf-syntax-ns#\">\n   <cc:Work>\n    <dc:type rdf:resource=\"http://purl.org/dc/dcmitype/StillImage\"/>\n    <dc:date>2021-09-07T10:15:38.114728</dc:date>\n    <dc:format>image/svg+xml</dc:format>\n    <dc:creator>\n     <cc:Agent>\n      <dc:title>Matplotlib v3.4.2, https://matplotlib.org/</dc:title>\n     </cc:Agent>\n    </dc:creator>\n   </cc:Work>\n  </rdf:RDF>\n </metadata>\n <defs>\n  <style type=\"text/css\">*{stroke-linecap:butt;stroke-linejoin:round;}</style>\n </defs>\n <g id=\"figure_1\">\n  <g id=\"patch_1\">\n   <path d=\"M 0 277.314375 \nL 384.620312 277.314375 \nL 384.620312 0 \nL 0 0 \nz\n\" style=\"fill:none;\"/>\n  </g>\n  <g id=\"axes_1\">\n   <g id=\"patch_2\">\n    <path d=\"M 42.620313 239.758125 \nL 377.420313 239.758125 \nL 377.420313 22.318125 \nL 42.620313 22.318125 \nz\n\" style=\"fill:#ffffff;\"/>\n   </g>\n   <g id=\"PathCollection_1\">\n    <defs>\n     <path d=\"M -3.535534 3.535534 \nL 3.535534 3.535534 \nL 3.535534 -3.535534 \nL -3.535534 -3.535534 \nz\n\" id=\"m41ecc72a14\" style=\"stroke:#000000;\"/>\n    </defs>\n    <g clip-path=\"url(#p27fe2eab22)\">\n     <use style=\"fill:#90ee90;stroke:#000000;\" x=\"172.89298\" xlink:href=\"#m41ecc72a14\" y=\"97.96827\"/>\n     <use style=\"fill:#90ee90;stroke:#000000;\" x=\"187.065921\" xlink:href=\"#m41ecc72a14\" y=\"89.096217\"/>\n     <use style=\"fill:#90ee90;stroke:#000000;\" x=\"176.517468\" xlink:href=\"#m41ecc72a14\" y=\"95.943486\"/>\n     <use style=\"fill:#90ee90;stroke:#000000;\" x=\"204.283982\" xlink:href=\"#m41ecc72a14\" y=\"94.391156\"/>\n     <use style=\"fill:#90ee90;stroke:#000000;\" x=\"192.86543\" xlink:href=\"#m41ecc72a14\" y=\"125.841332\"/>\n     <use style=\"fill:#90ee90;stroke:#000000;\" x=\"177.562748\" xlink:href=\"#m41ecc72a14\" y=\"65.895318\"/>\n     <use style=\"fill:#90ee90;stroke:#000000;\" x=\"196.400676\" xlink:href=\"#m41ecc72a14\" y=\"121.529177\"/>\n     <use style=\"fill:#90ee90;stroke:#000000;\" x=\"198.904411\" xlink:href=\"#m41ecc72a14\" y=\"104.719437\"/>\n     <use style=\"fill:#90ee90;stroke:#000000;\" x=\"164.387323\" xlink:href=\"#m41ecc72a14\" y=\"140.117171\"/>\n     <use style=\"fill:#90ee90;stroke:#000000;\" x=\"179.673852\" xlink:href=\"#m41ecc72a14\" y=\"102.820216\"/>\n     <use style=\"fill:#90ee90;stroke:#000000;\" x=\"181.842292\" xlink:href=\"#m41ecc72a14\" y=\"128.166929\"/>\n     <use style=\"fill:#90ee90;stroke:#000000;\" x=\"196.234663\" xlink:href=\"#m41ecc72a14\" y=\"81.148964\"/>\n     <use style=\"fill:#90ee90;stroke:#000000;\" x=\"196.438706\" xlink:href=\"#m41ecc72a14\" y=\"99.159362\"/>\n     <use style=\"fill:#90ee90;stroke:#000000;\" x=\"206.29873\" xlink:href=\"#m41ecc72a14\" y=\"127.24192\"/>\n     <use style=\"fill:#90ee90;stroke:#000000;\" x=\"174.756838\" xlink:href=\"#m41ecc72a14\" y=\"103.238347\"/>\n     <use style=\"fill:#90ee90;stroke:#000000;\" x=\"172.711062\" xlink:href=\"#m41ecc72a14\" y=\"111.007792\"/>\n     <use style=\"fill:#90ee90;stroke:#000000;\" x=\"166.328543\" xlink:href=\"#m41ecc72a14\" y=\"91.883808\"/>\n     <use style=\"fill:#90ee90;stroke:#000000;\" x=\"180.380489\" xlink:href=\"#m41ecc72a14\" y=\"98.602399\"/>\n     <use style=\"fill:#90ee90;stroke:#000000;\" x=\"167.675643\" xlink:href=\"#m41ecc72a14\" y=\"120.219515\"/>\n     <use style=\"fill:#90ee90;stroke:#000000;\" x=\"155.911315\" xlink:href=\"#m41ecc72a14\" y=\"98.891865\"/>\n     <use style=\"fill:#90ee90;stroke:#000000;\" x=\"188.694231\" xlink:href=\"#m41ecc72a14\" y=\"118.157994\"/>\n     <use style=\"fill:#90ee90;stroke:#000000;\" x=\"190.260381\" xlink:href=\"#m41ecc72a14\" y=\"152.366858\"/>\n     <use style=\"fill:#90ee90;stroke:#000000;\" x=\"184.03538\" xlink:href=\"#m41ecc72a14\" y=\"80.532165\"/>\n     <use style=\"fill:#90ee90;stroke:#000000;\" x=\"188.565443\" xlink:href=\"#m41ecc72a14\" y=\"150.922446\"/>\n     <use style=\"fill:#90ee90;stroke:#000000;\" x=\"162.481945\" xlink:href=\"#m41ecc72a14\" y=\"89.638296\"/>\n     <use style=\"fill:#90ee90;stroke:#000000;\" x=\"183.785194\" xlink:href=\"#m41ecc72a14\" y=\"127.627589\"/>\n     <use style=\"fill:#90ee90;stroke:#000000;\" x=\"216.848578\" xlink:href=\"#m41ecc72a14\" y=\"118.8557\"/>\n     <use style=\"fill:#90ee90;stroke:#000000;\" x=\"183.542737\" xlink:href=\"#m41ecc72a14\" y=\"100.657186\"/>\n     <use style=\"fill:#90ee90;stroke:#000000;\" x=\"170.424391\" xlink:href=\"#m41ecc72a14\" y=\"151.853513\"/>\n     <use style=\"fill:#90ee90;stroke:#000000;\" x=\"212.016236\" xlink:href=\"#m41ecc72a14\" y=\"104.089853\"/>\n     <use style=\"fill:#90ee90;stroke:#000000;\" x=\"179.509766\" xlink:href=\"#m41ecc72a14\" y=\"134.794822\"/>\n     <use style=\"fill:#90ee90;stroke:#000000;\" x=\"208.355741\" xlink:href=\"#m41ecc72a14\" y=\"84.311971\"/>\n     <use style=\"fill:#90ee90;stroke:#000000;\" x=\"183.656915\" xlink:href=\"#m41ecc72a14\" y=\"144.738589\"/>\n     <use style=\"fill:#90ee90;stroke:#000000;\" x=\"160.371235\" xlink:href=\"#m41ecc72a14\" y=\"83.484613\"/>\n     <use style=\"fill:#90ee90;stroke:#000000;\" x=\"176.757619\" xlink:href=\"#m41ecc72a14\" y=\"93.858284\"/>\n     <use style=\"fill:#90ee90;stroke:#000000;\" x=\"170.542164\" xlink:href=\"#m41ecc72a14\" y=\"127.357433\"/>\n     <use style=\"fill:#90ee90;stroke:#000000;\" x=\"203.914931\" xlink:href=\"#m41ecc72a14\" y=\"104.324632\"/>\n     <use style=\"fill:#90ee90;stroke:#000000;\" x=\"185.10577\" xlink:href=\"#m41ecc72a14\" y=\"91.113296\"/>\n     <use style=\"fill:#90ee90;stroke:#000000;\" x=\"186.814059\" xlink:href=\"#m41ecc72a14\" y=\"84.946855\"/>\n     <use style=\"fill:#90ee90;stroke:#000000;\" x=\"189.788702\" xlink:href=\"#m41ecc72a14\" y=\"139.946502\"/>\n     <use style=\"fill:#90ee90;stroke:#000000;\" x=\"178.080562\" xlink:href=\"#m41ecc72a14\" y=\"116.55441\"/>\n     <use style=\"fill:#90ee90;stroke:#000000;\" x=\"193.317789\" xlink:href=\"#m41ecc72a14\" y=\"78.579143\"/>\n     <use style=\"fill:#90ee90;stroke:#000000;\" x=\"165.57767\" xlink:href=\"#m41ecc72a14\" y=\"90.300289\"/>\n     <use style=\"fill:#90ee90;stroke:#000000;\" x=\"205.859375\" xlink:href=\"#m41ecc72a14\" y=\"94.268574\"/>\n     <use style=\"fill:#90ee90;stroke:#000000;\" x=\"206.457014\" xlink:href=\"#m41ecc72a14\" y=\"66.692399\"/>\n     <use style=\"fill:#90ee90;stroke:#000000;\" x=\"167.841591\" xlink:href=\"#m41ecc72a14\" y=\"103.464215\"/>\n     <use style=\"fill:#90ee90;stroke:#000000;\" x=\"156.595946\" xlink:href=\"#m41ecc72a14\" y=\"92.575094\"/>\n     <use style=\"fill:#90ee90;stroke:#000000;\" x=\"219.211963\" xlink:href=\"#m41ecc72a14\" y=\"143.806288\"/>\n     <use style=\"fill:#90ee90;stroke:#000000;\" x=\"204.335858\" xlink:href=\"#m41ecc72a14\" y=\"101.045485\"/>\n    </g>\n   </g>\n   <g id=\"PathCollection_2\">\n    <defs>\n     <path d=\"M 0 3.535534 \nC 0.937635 3.535534 1.836992 3.163008 2.5 2.5 \nC 3.163008 1.836992 3.535534 0.937635 3.535534 0 \nC 3.535534 -0.937635 3.163008 -1.836992 2.5 -2.5 \nC 1.836992 -3.163008 0.937635 -3.535534 0 -3.535534 \nC -0.937635 -3.535534 -1.836992 -3.163008 -2.5 -2.5 \nC -3.163008 -1.836992 -3.535534 -0.937635 -3.535534 0 \nC -3.535534 0.937635 -3.163008 1.836992 -2.5 2.5 \nC -1.836992 3.163008 -0.937635 3.535534 0 3.535534 \nz\n\" id=\"mba2f85565a\" style=\"stroke:#000000;\"/>\n    </defs>\n    <g clip-path=\"url(#p27fe2eab22)\">\n     <use style=\"fill:#ffa500;stroke:#000000;\" x=\"347.843352\" xlink:href=\"#mba2f85565a\" y=\"176.586001\"/>\n     <use style=\"fill:#ffa500;stroke:#000000;\" x=\"355.934847\" xlink:href=\"#mba2f85565a\" y=\"177.413005\"/>\n     <use style=\"fill:#ffa500;stroke:#000000;\" x=\"323.910683\" xlink:href=\"#mba2f85565a\" y=\"202.830491\"/>\n     <use style=\"fill:#ffa500;stroke:#000000;\" x=\"329.896811\" xlink:href=\"#mba2f85565a\" y=\"212.564617\"/>\n     <use style=\"fill:#ffa500;stroke:#000000;\" x=\"332.686746\" xlink:href=\"#mba2f85565a\" y=\"155.486331\"/>\n     <use style=\"fill:#ffa500;stroke:#000000;\" x=\"321.847728\" xlink:href=\"#mba2f85565a\" y=\"177.975039\"/>\n     <use style=\"fill:#ffa500;stroke:#000000;\" x=\"328.448573\" xlink:href=\"#mba2f85565a\" y=\"164.691951\"/>\n     <use style=\"fill:#ffa500;stroke:#000000;\" x=\"341.724866\" xlink:href=\"#mba2f85565a\" y=\"156.441257\"/>\n     <use style=\"fill:#ffa500;stroke:#000000;\" x=\"330.859842\" xlink:href=\"#mba2f85565a\" y=\"161.662491\"/>\n     <use style=\"fill:#ffa500;stroke:#000000;\" x=\"312.801972\" xlink:href=\"#mba2f85565a\" y=\"186.523649\"/>\n     <use style=\"fill:#ffa500;stroke:#000000;\" x=\"328.606673\" xlink:href=\"#mba2f85565a\" y=\"168.386721\"/>\n     <use style=\"fill:#ffa500;stroke:#000000;\" x=\"314.412799\" xlink:href=\"#mba2f85565a\" y=\"178.36859\"/>\n     <use style=\"fill:#ffa500;stroke:#000000;\" x=\"339.579908\" xlink:href=\"#mba2f85565a\" y=\"192.68019\"/>\n     <use style=\"fill:#ffa500;stroke:#000000;\" x=\"336.668209\" xlink:href=\"#mba2f85565a\" y=\"159.448432\"/>\n     <use style=\"fill:#ffa500;stroke:#000000;\" x=\"293.406001\" xlink:href=\"#mba2f85565a\" y=\"157.224141\"/>\n     <use style=\"fill:#ffa500;stroke:#000000;\" x=\"324.317755\" xlink:href=\"#mba2f85565a\" y=\"183.049736\"/>\n     <use style=\"fill:#ffa500;stroke:#000000;\" x=\"343.023376\" xlink:href=\"#mba2f85565a\" y=\"196.690481\"/>\n     <use style=\"fill:#ffa500;stroke:#000000;\" x=\"352.352547\" xlink:href=\"#mba2f85565a\" y=\"159.372723\"/>\n     <use style=\"fill:#ffa500;stroke:#000000;\" x=\"352.862667\" xlink:href=\"#mba2f85565a\" y=\"178.450626\"/>\n     <use style=\"fill:#ffa500;stroke:#000000;\" x=\"328.912394\" xlink:href=\"#mba2f85565a\" y=\"184.433245\"/>\n     <use style=\"fill:#ffa500;stroke:#000000;\" x=\"324.70595\" xlink:href=\"#mba2f85565a\" y=\"154.271664\"/>\n     <use style=\"fill:#ffa500;stroke:#000000;\" x=\"329.479673\" xlink:href=\"#mba2f85565a\" y=\"224.532404\"/>\n     <use style=\"fill:#ffa500;stroke:#000000;\" x=\"362.202131\" xlink:href=\"#mba2f85565a\" y=\"178.7132\"/>\n     <use style=\"fill:#ffa500;stroke:#000000;\" x=\"344.315797\" xlink:href=\"#mba2f85565a\" y=\"181.054003\"/>\n     <use style=\"fill:#ffa500;stroke:#000000;\" x=\"353.075911\" xlink:href=\"#mba2f85565a\" y=\"193.040075\"/>\n     <use style=\"fill:#ffa500;stroke:#000000;\" x=\"321.924731\" xlink:href=\"#mba2f85565a\" y=\"229.874489\"/>\n     <use style=\"fill:#ffa500;stroke:#000000;\" x=\"322.245192\" xlink:href=\"#mba2f85565a\" y=\"189.139103\"/>\n     <use style=\"fill:#ffa500;stroke:#000000;\" x=\"352.974436\" xlink:href=\"#mba2f85565a\" y=\"201.754203\"/>\n     <use style=\"fill:#ffa500;stroke:#000000;\" x=\"337.160328\" xlink:href=\"#mba2f85565a\" y=\"183.089121\"/>\n     <use style=\"fill:#ffa500;stroke:#000000;\" x=\"322.959662\" xlink:href=\"#mba2f85565a\" y=\"172.089062\"/>\n     <use style=\"fill:#ffa500;stroke:#000000;\" x=\"328.039862\" xlink:href=\"#mba2f85565a\" y=\"184.371987\"/>\n     <use style=\"fill:#ffa500;stroke:#000000;\" x=\"305.311047\" xlink:href=\"#mba2f85565a\" y=\"172.721409\"/>\n     <use style=\"fill:#ffa500;stroke:#000000;\" x=\"331.367403\" xlink:href=\"#mba2f85565a\" y=\"163.827981\"/>\n     <use style=\"fill:#ffa500;stroke:#000000;\" x=\"339.856969\" xlink:href=\"#mba2f85565a\" y=\"179.648041\"/>\n     <use style=\"fill:#ffa500;stroke:#000000;\" x=\"329.577287\" xlink:href=\"#mba2f85565a\" y=\"191.380327\"/>\n     <use style=\"fill:#ffa500;stroke:#000000;\" x=\"359.573899\" xlink:href=\"#mba2f85565a\" y=\"193.382174\"/>\n     <use style=\"fill:#ffa500;stroke:#000000;\" x=\"302.368685\" xlink:href=\"#mba2f85565a\" y=\"169.862089\"/>\n     <use style=\"fill:#ffa500;stroke:#000000;\" x=\"338.269818\" xlink:href=\"#mba2f85565a\" y=\"150.789589\"/>\n     <use style=\"fill:#ffa500;stroke:#000000;\" x=\"331.468894\" xlink:href=\"#mba2f85565a\" y=\"145.468669\"/>\n     <use style=\"fill:#ffa500;stroke:#000000;\" x=\"341.533851\" xlink:href=\"#mba2f85565a\" y=\"186.11457\"/>\n     <use style=\"fill:#ffa500;stroke:#000000;\" x=\"323.3281\" xlink:href=\"#mba2f85565a\" y=\"163.569983\"/>\n     <use style=\"fill:#ffa500;stroke:#000000;\" x=\"302.313372\" xlink:href=\"#mba2f85565a\" y=\"184.268681\"/>\n     <use style=\"fill:#ffa500;stroke:#000000;\" x=\"323.115541\" xlink:href=\"#mba2f85565a\" y=\"171.492352\"/>\n     <use style=\"fill:#ffa500;stroke:#000000;\" x=\"339.979156\" xlink:href=\"#mba2f85565a\" y=\"196.296444\"/>\n     <use style=\"fill:#ffa500;stroke:#000000;\" x=\"309.410655\" xlink:href=\"#mba2f85565a\" y=\"157.648774\"/>\n     <use style=\"fill:#ffa500;stroke:#000000;\" x=\"350.703194\" xlink:href=\"#mba2f85565a\" y=\"187.252101\"/>\n     <use style=\"fill:#ffa500;stroke:#000000;\" x=\"339.51877\" xlink:href=\"#mba2f85565a\" y=\"205.363223\"/>\n     <use style=\"fill:#ffa500;stroke:#000000;\" x=\"325.678998\" xlink:href=\"#mba2f85565a\" y=\"159.982999\"/>\n     <use style=\"fill:#ffa500;stroke:#000000;\" x=\"343.912583\" xlink:href=\"#mba2f85565a\" y=\"207.07799\"/>\n     <use style=\"fill:#ffa500;stroke:#000000;\" x=\"334.645269\" xlink:href=\"#mba2f85565a\" y=\"137.128663\"/>\n    </g>\n   </g>\n   <g id=\"PathCollection_3\">\n    <defs>\n     <path d=\"M -0 3.535534 \nL 3.535534 -3.535534 \nL -3.535534 -3.535534 \nz\n\" id=\"mae0737ebf3\" style=\"stroke:#000000;\"/>\n    </defs>\n    <g clip-path=\"url(#p27fe2eab22)\">\n     <use style=\"fill:#add8e6;stroke:#000000;\" x=\"101.328164\" xlink:href=\"#mae0737ebf3\" y=\"83.193513\"/>\n     <use style=\"fill:#add8e6;stroke:#000000;\" x=\"79.788634\" xlink:href=\"#mae0737ebf3\" y=\"60.417271\"/>\n     <use style=\"fill:#add8e6;stroke:#000000;\" x=\"102.990794\" xlink:href=\"#mae0737ebf3\" y=\"64.693996\"/>\n     <use style=\"fill:#add8e6;stroke:#000000;\" x=\"93.92325\" xlink:href=\"#mae0737ebf3\" y=\"51.634912\"/>\n     <use style=\"fill:#add8e6;stroke:#000000;\" x=\"64.70219\" xlink:href=\"#mae0737ebf3\" y=\"73.311968\"/>\n     <use style=\"fill:#add8e6;stroke:#000000;\" x=\"92.104306\" xlink:href=\"#mae0737ebf3\" y=\"128.30004\"/>\n     <use style=\"fill:#add8e6;stroke:#000000;\" x=\"85.390089\" xlink:href=\"#mae0737ebf3\" y=\"141.111901\"/>\n     <use style=\"fill:#add8e6;stroke:#000000;\" x=\"116.988107\" xlink:href=\"#mae0737ebf3\" y=\"92.954229\"/>\n     <use style=\"fill:#add8e6;stroke:#000000;\" x=\"97.631683\" xlink:href=\"#mae0737ebf3\" y=\"68.519509\"/>\n     <use style=\"fill:#add8e6;stroke:#000000;\" x=\"63.7513\" xlink:href=\"#mae0737ebf3\" y=\"129.46154\"/>\n     <use style=\"fill:#add8e6;stroke:#000000;\" x=\"117.518495\" xlink:href=\"#mae0737ebf3\" y=\"70.094809\"/>\n     <use style=\"fill:#add8e6;stroke:#000000;\" x=\"85.690447\" xlink:href=\"#mae0737ebf3\" y=\"37.448636\"/>\n     <use style=\"fill:#add8e6;stroke:#000000;\" x=\"106.07987\" xlink:href=\"#mae0737ebf3\" y=\"90.489564\"/>\n     <use style=\"fill:#add8e6;stroke:#000000;\" x=\"72.298926\" xlink:href=\"#mae0737ebf3\" y=\"111.379557\"/>\n     <use style=\"fill:#add8e6;stroke:#000000;\" x=\"85.994684\" xlink:href=\"#mae0737ebf3\" y=\"131.941149\"/>\n     <use style=\"fill:#add8e6;stroke:#000000;\" x=\"109.544824\" xlink:href=\"#mae0737ebf3\" y=\"96.167792\"/>\n     <use style=\"fill:#add8e6;stroke:#000000;\" x=\"154.23985\" xlink:href=\"#mae0737ebf3\" y=\"58.302712\"/>\n     <use style=\"fill:#add8e6;stroke:#000000;\" x=\"101.552032\" xlink:href=\"#mae0737ebf3\" y=\"104.244082\"/>\n     <use style=\"fill:#add8e6;stroke:#000000;\" x=\"123.869081\" xlink:href=\"#mae0737ebf3\" y=\"80.470203\"/>\n     <use style=\"fill:#add8e6;stroke:#000000;\" x=\"88.088127\" xlink:href=\"#mae0737ebf3\" y=\"121.061241\"/>\n     <use style=\"fill:#add8e6;stroke:#000000;\" x=\"81.733544\" xlink:href=\"#mae0737ebf3\" y=\"90.286958\"/>\n     <use style=\"fill:#add8e6;stroke:#000000;\" x=\"89.920905\" xlink:href=\"#mae0737ebf3\" y=\"93.598701\"/>\n     <use style=\"fill:#add8e6;stroke:#000000;\" x=\"90.5453\" xlink:href=\"#mae0737ebf3\" y=\"57.521208\"/>\n     <use style=\"fill:#add8e6;stroke:#000000;\" x=\"57.838494\" xlink:href=\"#mae0737ebf3\" y=\"102.066848\"/>\n     <use style=\"fill:#add8e6;stroke:#000000;\" x=\"117.082416\" xlink:href=\"#mae0737ebf3\" y=\"91.27583\"/>\n     <use style=\"fill:#add8e6;stroke:#000000;\" x=\"93.803452\" xlink:href=\"#mae0737ebf3\" y=\"80.103419\"/>\n     <use style=\"fill:#add8e6;stroke:#000000;\" x=\"96.67663\" xlink:href=\"#mae0737ebf3\" y=\"122.820816\"/>\n     <use style=\"fill:#add8e6;stroke:#000000;\" x=\"72.122444\" xlink:href=\"#mae0737ebf3\" y=\"51.064992\"/>\n     <use style=\"fill:#add8e6;stroke:#000000;\" x=\"99.018712\" xlink:href=\"#mae0737ebf3\" y=\"108.342879\"/>\n     <use style=\"fill:#add8e6;stroke:#000000;\" x=\"119.529751\" xlink:href=\"#mae0737ebf3\" y=\"82.462277\"/>\n     <use style=\"fill:#add8e6;stroke:#000000;\" x=\"91.365435\" xlink:href=\"#mae0737ebf3\" y=\"120.999708\"/>\n     <use style=\"fill:#add8e6;stroke:#000000;\" x=\"101.231267\" xlink:href=\"#mae0737ebf3\" y=\"69.921674\"/>\n     <use style=\"fill:#add8e6;stroke:#000000;\" x=\"109.017791\" xlink:href=\"#mae0737ebf3\" y=\"71.749615\"/>\n     <use style=\"fill:#add8e6;stroke:#000000;\" x=\"90.465009\" xlink:href=\"#mae0737ebf3\" y=\"45.360983\"/>\n     <use style=\"fill:#add8e6;stroke:#000000;\" x=\"100.50983\" xlink:href=\"#mae0737ebf3\" y=\"92.44331\"/>\n     <use style=\"fill:#add8e6;stroke:#000000;\" x=\"87.134231\" xlink:href=\"#mae0737ebf3\" y=\"114.500108\"/>\n     <use style=\"fill:#add8e6;stroke:#000000;\" x=\"88.863964\" xlink:href=\"#mae0737ebf3\" y=\"100.352739\"/>\n     <use style=\"fill:#add8e6;stroke:#000000;\" x=\"96.592801\" xlink:href=\"#mae0737ebf3\" y=\"98.76407\"/>\n     <use style=\"fill:#add8e6;stroke:#000000;\" x=\"86.438074\" xlink:href=\"#mae0737ebf3\" y=\"97.499238\"/>\n     <use style=\"fill:#add8e6;stroke:#000000;\" x=\"121.44704\" xlink:href=\"#mae0737ebf3\" y=\"94.077411\"/>\n     <use style=\"fill:#add8e6;stroke:#000000;\" x=\"80.93289\" xlink:href=\"#mae0737ebf3\" y=\"87.509387\"/>\n     <use style=\"fill:#add8e6;stroke:#000000;\" x=\"98.620896\" xlink:href=\"#mae0737ebf3\" y=\"120.818259\"/>\n     <use style=\"fill:#add8e6;stroke:#000000;\" x=\"88.916634\" xlink:href=\"#mae0737ebf3\" y=\"128.859213\"/>\n     <use style=\"fill:#add8e6;stroke:#000000;\" x=\"98.481014\" xlink:href=\"#mae0737ebf3\" y=\"32.201761\"/>\n     <use style=\"fill:#add8e6;stroke:#000000;\" x=\"87.142243\" xlink:href=\"#mae0737ebf3\" y=\"55.028921\"/>\n     <use style=\"fill:#add8e6;stroke:#000000;\" x=\"129.646595\" xlink:href=\"#mae0737ebf3\" y=\"65.301777\"/>\n     <use style=\"fill:#add8e6;stroke:#000000;\" x=\"68.290835\" xlink:href=\"#mae0737ebf3\" y=\"74.123654\"/>\n     <use style=\"fill:#add8e6;stroke:#000000;\" x=\"85.752167\" xlink:href=\"#mae0737ebf3\" y=\"107.534013\"/>\n     <use style=\"fill:#add8e6;stroke:#000000;\" x=\"77.763821\" xlink:href=\"#mae0737ebf3\" y=\"77.179099\"/>\n     <use style=\"fill:#add8e6;stroke:#000000;\" x=\"91.915804\" xlink:href=\"#mae0737ebf3\" y=\"87.984702\"/>\n     <use style=\"fill:#add8e6;stroke:#000000;\" x=\"79.018647\" xlink:href=\"#mae0737ebf3\" y=\"86.118378\"/>\n    </g>\n   </g>\n   <g id=\"PathCollection_4\">\n    <defs>\n     <path d=\"M 0 -7.905694 \nL -1.774939 -2.442994 \nL -7.518762 -2.442994 \nL -2.871911 0.933141 \nL -4.64685 6.395841 \nL -0 3.019706 \nL 4.64685 6.395841 \nL 2.871911 0.933141 \nL 7.518762 -2.442994 \nL 1.774939 -2.442994 \nz\n\" id=\"m80e2b23764\" style=\"stroke:#000000;\"/>\n    </defs>\n    <g clip-path=\"url(#p27fe2eab22)\">\n     <use style=\"fill:#ff0000;stroke:#000000;\" x=\"185.140454\" xlink:href=\"#m80e2b23764\" y=\"107.525453\"/>\n     <use style=\"fill:#ff0000;stroke:#000000;\" x=\"332.222298\" xlink:href=\"#m80e2b23764\" y=\"178.909702\"/>\n     <use style=\"fill:#ff0000;stroke:#000000;\" x=\"94.535166\" xlink:href=\"#m80e2b23764\" y=\"88.295501\"/>\n    </g>\n   </g>\n   <g id=\"matplotlib.axis_1\">\n    <g id=\"xtick_1\">\n     <g id=\"line2d_1\">\n      <defs>\n       <path d=\"M 0 0 \nL 0 3.5 \n\" id=\"m98af0ad039\" style=\"stroke:#000000;stroke-width:0.8;\"/>\n      </defs>\n      <g>\n       <use style=\"stroke:#000000;stroke-width:0.8;\" x=\"53.840036\" xlink:href=\"#m98af0ad039\" y=\"239.758125\"/>\n      </g>\n     </g>\n     <g id=\"text_1\">\n      <!-- −1.5 -->\n      <g transform=\"translate(41.69863 254.356562)scale(0.1 -0.1)\">\n       <defs>\n        <path d=\"M 678 2272 \nL 4684 2272 \nL 4684 1741 \nL 678 1741 \nL 678 2272 \nz\n\" id=\"DejaVuSans-2212\" transform=\"scale(0.015625)\"/>\n        <path d=\"M 794 531 \nL 1825 531 \nL 1825 4091 \nL 703 3866 \nL 703 4441 \nL 1819 4666 \nL 2450 4666 \nL 2450 531 \nL 3481 531 \nL 3481 0 \nL 794 0 \nL 794 531 \nz\n\" id=\"DejaVuSans-31\" transform=\"scale(0.015625)\"/>\n        <path d=\"M 684 794 \nL 1344 794 \nL 1344 0 \nL 684 0 \nL 684 794 \nz\n\" id=\"DejaVuSans-2e\" transform=\"scale(0.015625)\"/>\n        <path d=\"M 691 4666 \nL 3169 4666 \nL 3169 4134 \nL 1269 4134 \nL 1269 2991 \nQ 1406 3038 1543 3061 \nQ 1681 3084 1819 3084 \nQ 2600 3084 3056 2656 \nQ 3513 2228 3513 1497 \nQ 3513 744 3044 326 \nQ 2575 -91 1722 -91 \nQ 1428 -91 1123 -41 \nQ 819 9 494 109 \nL 494 744 \nQ 775 591 1075 516 \nQ 1375 441 1709 441 \nQ 2250 441 2565 725 \nQ 2881 1009 2881 1497 \nQ 2881 1984 2565 2268 \nQ 2250 2553 1709 2553 \nQ 1456 2553 1204 2497 \nQ 953 2441 691 2322 \nL 691 4666 \nz\n\" id=\"DejaVuSans-35\" transform=\"scale(0.015625)\"/>\n       </defs>\n       <use xlink:href=\"#DejaVuSans-2212\"/>\n       <use x=\"83.789062\" xlink:href=\"#DejaVuSans-31\"/>\n       <use x=\"147.412109\" xlink:href=\"#DejaVuSans-2e\"/>\n       <use x=\"179.199219\" xlink:href=\"#DejaVuSans-35\"/>\n      </g>\n     </g>\n    </g>\n    <g id=\"xtick_2\">\n     <g id=\"line2d_2\">\n      <g>\n       <use style=\"stroke:#000000;stroke-width:0.8;\" x=\"103.68067\" xlink:href=\"#m98af0ad039\" y=\"239.758125\"/>\n      </g>\n     </g>\n     <g id=\"text_2\">\n      <!-- −1.0 -->\n      <g transform=\"translate(91.539264 254.356562)scale(0.1 -0.1)\">\n       <defs>\n        <path d=\"M 2034 4250 \nQ 1547 4250 1301 3770 \nQ 1056 3291 1056 2328 \nQ 1056 1369 1301 889 \nQ 1547 409 2034 409 \nQ 2525 409 2770 889 \nQ 3016 1369 3016 2328 \nQ 3016 3291 2770 3770 \nQ 2525 4250 2034 4250 \nz\nM 2034 4750 \nQ 2819 4750 3233 4129 \nQ 3647 3509 3647 2328 \nQ 3647 1150 3233 529 \nQ 2819 -91 2034 -91 \nQ 1250 -91 836 529 \nQ 422 1150 422 2328 \nQ 422 3509 836 4129 \nQ 1250 4750 2034 4750 \nz\n\" id=\"DejaVuSans-30\" transform=\"scale(0.015625)\"/>\n       </defs>\n       <use xlink:href=\"#DejaVuSans-2212\"/>\n       <use x=\"83.789062\" xlink:href=\"#DejaVuSans-31\"/>\n       <use x=\"147.412109\" xlink:href=\"#DejaVuSans-2e\"/>\n       <use x=\"179.199219\" xlink:href=\"#DejaVuSans-30\"/>\n      </g>\n     </g>\n    </g>\n    <g id=\"xtick_3\">\n     <g id=\"line2d_3\">\n      <g>\n       <use style=\"stroke:#000000;stroke-width:0.8;\" x=\"153.521304\" xlink:href=\"#m98af0ad039\" y=\"239.758125\"/>\n      </g>\n     </g>\n     <g id=\"text_3\">\n      <!-- −0.5 -->\n      <g transform=\"translate(141.379898 254.356562)scale(0.1 -0.1)\">\n       <use xlink:href=\"#DejaVuSans-2212\"/>\n       <use x=\"83.789062\" xlink:href=\"#DejaVuSans-30\"/>\n       <use x=\"147.412109\" xlink:href=\"#DejaVuSans-2e\"/>\n       <use x=\"179.199219\" xlink:href=\"#DejaVuSans-35\"/>\n      </g>\n     </g>\n    </g>\n    <g id=\"xtick_4\">\n     <g id=\"line2d_4\">\n      <g>\n       <use style=\"stroke:#000000;stroke-width:0.8;\" x=\"203.361938\" xlink:href=\"#m98af0ad039\" y=\"239.758125\"/>\n      </g>\n     </g>\n     <g id=\"text_4\">\n      <!-- 0.0 -->\n      <g transform=\"translate(195.410375 254.356562)scale(0.1 -0.1)\">\n       <use xlink:href=\"#DejaVuSans-30\"/>\n       <use x=\"63.623047\" xlink:href=\"#DejaVuSans-2e\"/>\n       <use x=\"95.410156\" xlink:href=\"#DejaVuSans-30\"/>\n      </g>\n     </g>\n    </g>\n    <g id=\"xtick_5\">\n     <g id=\"line2d_5\">\n      <g>\n       <use style=\"stroke:#000000;stroke-width:0.8;\" x=\"253.202572\" xlink:href=\"#m98af0ad039\" y=\"239.758125\"/>\n      </g>\n     </g>\n     <g id=\"text_5\">\n      <!-- 0.5 -->\n      <g transform=\"translate(245.251009 254.356562)scale(0.1 -0.1)\">\n       <use xlink:href=\"#DejaVuSans-30\"/>\n       <use x=\"63.623047\" xlink:href=\"#DejaVuSans-2e\"/>\n       <use x=\"95.410156\" xlink:href=\"#DejaVuSans-35\"/>\n      </g>\n     </g>\n    </g>\n    <g id=\"xtick_6\">\n     <g id=\"line2d_6\">\n      <g>\n       <use style=\"stroke:#000000;stroke-width:0.8;\" x=\"303.043206\" xlink:href=\"#m98af0ad039\" y=\"239.758125\"/>\n      </g>\n     </g>\n     <g id=\"text_6\">\n      <!-- 1.0 -->\n      <g transform=\"translate(295.091643 254.356562)scale(0.1 -0.1)\">\n       <use xlink:href=\"#DejaVuSans-31\"/>\n       <use x=\"63.623047\" xlink:href=\"#DejaVuSans-2e\"/>\n       <use x=\"95.410156\" xlink:href=\"#DejaVuSans-30\"/>\n      </g>\n     </g>\n    </g>\n    <g id=\"xtick_7\">\n     <g id=\"line2d_7\">\n      <g>\n       <use style=\"stroke:#000000;stroke-width:0.8;\" x=\"352.883839\" xlink:href=\"#m98af0ad039\" y=\"239.758125\"/>\n      </g>\n     </g>\n     <g id=\"text_7\">\n      <!-- 1.5 -->\n      <g transform=\"translate(344.932277 254.356562)scale(0.1 -0.1)\">\n       <use xlink:href=\"#DejaVuSans-31\"/>\n       <use x=\"63.623047\" xlink:href=\"#DejaVuSans-2e\"/>\n       <use x=\"95.410156\" xlink:href=\"#DejaVuSans-35\"/>\n      </g>\n     </g>\n    </g>\n    <g id=\"text_8\">\n     <!-- Brand Loyalty Score -->\n     <g transform=\"translate(159.857031 268.034687)scale(0.1 -0.1)\">\n      <defs>\n       <path d=\"M 1259 2228 \nL 1259 519 \nL 2272 519 \nQ 2781 519 3026 730 \nQ 3272 941 3272 1375 \nQ 3272 1813 3026 2020 \nQ 2781 2228 2272 2228 \nL 1259 2228 \nz\nM 1259 4147 \nL 1259 2741 \nL 2194 2741 \nQ 2656 2741 2882 2914 \nQ 3109 3088 3109 3444 \nQ 3109 3797 2882 3972 \nQ 2656 4147 2194 4147 \nL 1259 4147 \nz\nM 628 4666 \nL 2241 4666 \nQ 2963 4666 3353 4366 \nQ 3744 4066 3744 3513 \nQ 3744 3084 3544 2831 \nQ 3344 2578 2956 2516 \nQ 3422 2416 3680 2098 \nQ 3938 1781 3938 1306 \nQ 3938 681 3513 340 \nQ 3088 0 2303 0 \nL 628 0 \nL 628 4666 \nz\n\" id=\"DejaVuSans-42\" transform=\"scale(0.015625)\"/>\n       <path d=\"M 2631 2963 \nQ 2534 3019 2420 3045 \nQ 2306 3072 2169 3072 \nQ 1681 3072 1420 2755 \nQ 1159 2438 1159 1844 \nL 1159 0 \nL 581 0 \nL 581 3500 \nL 1159 3500 \nL 1159 2956 \nQ 1341 3275 1631 3429 \nQ 1922 3584 2338 3584 \nQ 2397 3584 2469 3576 \nQ 2541 3569 2628 3553 \nL 2631 2963 \nz\n\" id=\"DejaVuSans-72\" transform=\"scale(0.015625)\"/>\n       <path d=\"M 2194 1759 \nQ 1497 1759 1228 1600 \nQ 959 1441 959 1056 \nQ 959 750 1161 570 \nQ 1363 391 1709 391 \nQ 2188 391 2477 730 \nQ 2766 1069 2766 1631 \nL 2766 1759 \nL 2194 1759 \nz\nM 3341 1997 \nL 3341 0 \nL 2766 0 \nL 2766 531 \nQ 2569 213 2275 61 \nQ 1981 -91 1556 -91 \nQ 1019 -91 701 211 \nQ 384 513 384 1019 \nQ 384 1609 779 1909 \nQ 1175 2209 1959 2209 \nL 2766 2209 \nL 2766 2266 \nQ 2766 2663 2505 2880 \nQ 2244 3097 1772 3097 \nQ 1472 3097 1187 3025 \nQ 903 2953 641 2809 \nL 641 3341 \nQ 956 3463 1253 3523 \nQ 1550 3584 1831 3584 \nQ 2591 3584 2966 3190 \nQ 3341 2797 3341 1997 \nz\n\" id=\"DejaVuSans-61\" transform=\"scale(0.015625)\"/>\n       <path d=\"M 3513 2113 \nL 3513 0 \nL 2938 0 \nL 2938 2094 \nQ 2938 2591 2744 2837 \nQ 2550 3084 2163 3084 \nQ 1697 3084 1428 2787 \nQ 1159 2491 1159 1978 \nL 1159 0 \nL 581 0 \nL 581 3500 \nL 1159 3500 \nL 1159 2956 \nQ 1366 3272 1645 3428 \nQ 1925 3584 2291 3584 \nQ 2894 3584 3203 3211 \nQ 3513 2838 3513 2113 \nz\n\" id=\"DejaVuSans-6e\" transform=\"scale(0.015625)\"/>\n       <path d=\"M 2906 2969 \nL 2906 4863 \nL 3481 4863 \nL 3481 0 \nL 2906 0 \nL 2906 525 \nQ 2725 213 2448 61 \nQ 2172 -91 1784 -91 \nQ 1150 -91 751 415 \nQ 353 922 353 1747 \nQ 353 2572 751 3078 \nQ 1150 3584 1784 3584 \nQ 2172 3584 2448 3432 \nQ 2725 3281 2906 2969 \nz\nM 947 1747 \nQ 947 1113 1208 752 \nQ 1469 391 1925 391 \nQ 2381 391 2643 752 \nQ 2906 1113 2906 1747 \nQ 2906 2381 2643 2742 \nQ 2381 3103 1925 3103 \nQ 1469 3103 1208 2742 \nQ 947 2381 947 1747 \nz\n\" id=\"DejaVuSans-64\" transform=\"scale(0.015625)\"/>\n       <path id=\"DejaVuSans-20\" transform=\"scale(0.015625)\"/>\n       <path d=\"M 628 4666 \nL 1259 4666 \nL 1259 531 \nL 3531 531 \nL 3531 0 \nL 628 0 \nL 628 4666 \nz\n\" id=\"DejaVuSans-4c\" transform=\"scale(0.015625)\"/>\n       <path d=\"M 1959 3097 \nQ 1497 3097 1228 2736 \nQ 959 2375 959 1747 \nQ 959 1119 1226 758 \nQ 1494 397 1959 397 \nQ 2419 397 2687 759 \nQ 2956 1122 2956 1747 \nQ 2956 2369 2687 2733 \nQ 2419 3097 1959 3097 \nz\nM 1959 3584 \nQ 2709 3584 3137 3096 \nQ 3566 2609 3566 1747 \nQ 3566 888 3137 398 \nQ 2709 -91 1959 -91 \nQ 1206 -91 779 398 \nQ 353 888 353 1747 \nQ 353 2609 779 3096 \nQ 1206 3584 1959 3584 \nz\n\" id=\"DejaVuSans-6f\" transform=\"scale(0.015625)\"/>\n       <path d=\"M 2059 -325 \nQ 1816 -950 1584 -1140 \nQ 1353 -1331 966 -1331 \nL 506 -1331 \nL 506 -850 \nL 844 -850 \nQ 1081 -850 1212 -737 \nQ 1344 -625 1503 -206 \nL 1606 56 \nL 191 3500 \nL 800 3500 \nL 1894 763 \nL 2988 3500 \nL 3597 3500 \nL 2059 -325 \nz\n\" id=\"DejaVuSans-79\" transform=\"scale(0.015625)\"/>\n       <path d=\"M 603 4863 \nL 1178 4863 \nL 1178 0 \nL 603 0 \nL 603 4863 \nz\n\" id=\"DejaVuSans-6c\" transform=\"scale(0.015625)\"/>\n       <path d=\"M 1172 4494 \nL 1172 3500 \nL 2356 3500 \nL 2356 3053 \nL 1172 3053 \nL 1172 1153 \nQ 1172 725 1289 603 \nQ 1406 481 1766 481 \nL 2356 481 \nL 2356 0 \nL 1766 0 \nQ 1100 0 847 248 \nQ 594 497 594 1153 \nL 594 3053 \nL 172 3053 \nL 172 3500 \nL 594 3500 \nL 594 4494 \nL 1172 4494 \nz\n\" id=\"DejaVuSans-74\" transform=\"scale(0.015625)\"/>\n       <path d=\"M 3425 4513 \nL 3425 3897 \nQ 3066 4069 2747 4153 \nQ 2428 4238 2131 4238 \nQ 1616 4238 1336 4038 \nQ 1056 3838 1056 3469 \nQ 1056 3159 1242 3001 \nQ 1428 2844 1947 2747 \nL 2328 2669 \nQ 3034 2534 3370 2195 \nQ 3706 1856 3706 1288 \nQ 3706 609 3251 259 \nQ 2797 -91 1919 -91 \nQ 1588 -91 1214 -16 \nQ 841 59 441 206 \nL 441 856 \nQ 825 641 1194 531 \nQ 1563 422 1919 422 \nQ 2459 422 2753 634 \nQ 3047 847 3047 1241 \nQ 3047 1584 2836 1778 \nQ 2625 1972 2144 2069 \nL 1759 2144 \nQ 1053 2284 737 2584 \nQ 422 2884 422 3419 \nQ 422 4038 858 4394 \nQ 1294 4750 2059 4750 \nQ 2388 4750 2728 4690 \nQ 3069 4631 3425 4513 \nz\n\" id=\"DejaVuSans-53\" transform=\"scale(0.015625)\"/>\n       <path d=\"M 3122 3366 \nL 3122 2828 \nQ 2878 2963 2633 3030 \nQ 2388 3097 2138 3097 \nQ 1578 3097 1268 2742 \nQ 959 2388 959 1747 \nQ 959 1106 1268 751 \nQ 1578 397 2138 397 \nQ 2388 397 2633 464 \nQ 2878 531 3122 666 \nL 3122 134 \nQ 2881 22 2623 -34 \nQ 2366 -91 2075 -91 \nQ 1284 -91 818 406 \nQ 353 903 353 1747 \nQ 353 2603 823 3093 \nQ 1294 3584 2113 3584 \nQ 2378 3584 2631 3529 \nQ 2884 3475 3122 3366 \nz\n\" id=\"DejaVuSans-63\" transform=\"scale(0.015625)\"/>\n       <path d=\"M 3597 1894 \nL 3597 1613 \nL 953 1613 \nQ 991 1019 1311 708 \nQ 1631 397 2203 397 \nQ 2534 397 2845 478 \nQ 3156 559 3463 722 \nL 3463 178 \nQ 3153 47 2828 -22 \nQ 2503 -91 2169 -91 \nQ 1331 -91 842 396 \nQ 353 884 353 1716 \nQ 353 2575 817 3079 \nQ 1281 3584 2069 3584 \nQ 2775 3584 3186 3129 \nQ 3597 2675 3597 1894 \nz\nM 3022 2063 \nQ 3016 2534 2758 2815 \nQ 2500 3097 2075 3097 \nQ 1594 3097 1305 2825 \nQ 1016 2553 972 2059 \nL 3022 2063 \nz\n\" id=\"DejaVuSans-65\" transform=\"scale(0.015625)\"/>\n      </defs>\n      <use xlink:href=\"#DejaVuSans-42\"/>\n      <use x=\"68.603516\" xlink:href=\"#DejaVuSans-72\"/>\n      <use x=\"109.716797\" xlink:href=\"#DejaVuSans-61\"/>\n      <use x=\"170.996094\" xlink:href=\"#DejaVuSans-6e\"/>\n      <use x=\"234.375\" xlink:href=\"#DejaVuSans-64\"/>\n      <use x=\"297.851562\" xlink:href=\"#DejaVuSans-20\"/>\n      <use x=\"329.638672\" xlink:href=\"#DejaVuSans-4c\"/>\n      <use x=\"383.601562\" xlink:href=\"#DejaVuSans-6f\"/>\n      <use x=\"444.783203\" xlink:href=\"#DejaVuSans-79\"/>\n      <use x=\"503.962891\" xlink:href=\"#DejaVuSans-61\"/>\n      <use x=\"565.242188\" xlink:href=\"#DejaVuSans-6c\"/>\n      <use x=\"593.025391\" xlink:href=\"#DejaVuSans-74\"/>\n      <use x=\"632.234375\" xlink:href=\"#DejaVuSans-79\"/>\n      <use x=\"691.414062\" xlink:href=\"#DejaVuSans-20\"/>\n      <use x=\"723.201172\" xlink:href=\"#DejaVuSans-53\"/>\n      <use x=\"786.677734\" xlink:href=\"#DejaVuSans-63\"/>\n      <use x=\"841.658203\" xlink:href=\"#DejaVuSans-6f\"/>\n      <use x=\"902.839844\" xlink:href=\"#DejaVuSans-72\"/>\n      <use x=\"941.703125\" xlink:href=\"#DejaVuSans-65\"/>\n     </g>\n    </g>\n   </g>\n   <g id=\"matplotlib.axis_2\">\n    <g id=\"ytick_1\">\n     <g id=\"line2d_8\">\n      <defs>\n       <path d=\"M 0 0 \nL -3.5 0 \n\" id=\"m3bb87c4585\" style=\"stroke:#000000;stroke-width:0.8;\"/>\n      </defs>\n      <g>\n       <use style=\"stroke:#000000;stroke-width:0.8;\" x=\"42.620313\" xlink:href=\"#m3bb87c4585\" y=\"215.144739\"/>\n      </g>\n     </g>\n     <g id=\"text_9\">\n      <!-- −2 -->\n      <g transform=\"translate(20.878125 218.943957)scale(0.1 -0.1)\">\n       <defs>\n        <path d=\"M 1228 531 \nL 3431 531 \nL 3431 0 \nL 469 0 \nL 469 531 \nQ 828 903 1448 1529 \nQ 2069 2156 2228 2338 \nQ 2531 2678 2651 2914 \nQ 2772 3150 2772 3378 \nQ 2772 3750 2511 3984 \nQ 2250 4219 1831 4219 \nQ 1534 4219 1204 4116 \nQ 875 4013 500 3803 \nL 500 4441 \nQ 881 4594 1212 4672 \nQ 1544 4750 1819 4750 \nQ 2544 4750 2975 4387 \nQ 3406 4025 3406 3419 \nQ 3406 3131 3298 2873 \nQ 3191 2616 2906 2266 \nQ 2828 2175 2409 1742 \nQ 1991 1309 1228 531 \nz\n\" id=\"DejaVuSans-32\" transform=\"scale(0.015625)\"/>\n       </defs>\n       <use xlink:href=\"#DejaVuSans-2212\"/>\n       <use x=\"83.789062\" xlink:href=\"#DejaVuSans-32\"/>\n      </g>\n     </g>\n    </g>\n    <g id=\"ytick_2\">\n     <g id=\"line2d_9\">\n      <g>\n       <use style=\"stroke:#000000;stroke-width:0.8;\" x=\"42.620313\" xlink:href=\"#m3bb87c4585\" y=\"169.963379\"/>\n      </g>\n     </g>\n     <g id=\"text_10\">\n      <!-- −1 -->\n      <g transform=\"translate(20.878125 173.762597)scale(0.1 -0.1)\">\n       <use xlink:href=\"#DejaVuSans-2212\"/>\n       <use x=\"83.789062\" xlink:href=\"#DejaVuSans-31\"/>\n      </g>\n     </g>\n    </g>\n    <g id=\"ytick_3\">\n     <g id=\"line2d_10\">\n      <g>\n       <use style=\"stroke:#000000;stroke-width:0.8;\" x=\"42.620313\" xlink:href=\"#m3bb87c4585\" y=\"124.782019\"/>\n      </g>\n     </g>\n     <g id=\"text_11\">\n      <!-- 0 -->\n      <g transform=\"translate(29.257813 128.581238)scale(0.1 -0.1)\">\n       <use xlink:href=\"#DejaVuSans-30\"/>\n      </g>\n     </g>\n    </g>\n    <g id=\"ytick_4\">\n     <g id=\"line2d_11\">\n      <g>\n       <use style=\"stroke:#000000;stroke-width:0.8;\" x=\"42.620313\" xlink:href=\"#m3bb87c4585\" y=\"79.600659\"/>\n      </g>\n     </g>\n     <g id=\"text_12\">\n      <!-- 1 -->\n      <g transform=\"translate(29.257813 83.399878)scale(0.1 -0.1)\">\n       <use xlink:href=\"#DejaVuSans-31\"/>\n      </g>\n     </g>\n    </g>\n    <g id=\"ytick_5\">\n     <g id=\"line2d_12\">\n      <g>\n       <use style=\"stroke:#000000;stroke-width:0.8;\" x=\"42.620313\" xlink:href=\"#m3bb87c4585\" y=\"34.419299\"/>\n      </g>\n     </g>\n     <g id=\"text_13\">\n      <!-- 2 -->\n      <g transform=\"translate(29.257813 38.218518)scale(0.1 -0.1)\">\n       <use xlink:href=\"#DejaVuSans-32\"/>\n      </g>\n     </g>\n    </g>\n    <g id=\"text_14\">\n     <!-- Price Sensitivity Score -->\n     <g transform=\"translate(14.798438 186.446719)rotate(-90)scale(0.1 -0.1)\">\n      <defs>\n       <path d=\"M 1259 4147 \nL 1259 2394 \nL 2053 2394 \nQ 2494 2394 2734 2622 \nQ 2975 2850 2975 3272 \nQ 2975 3691 2734 3919 \nQ 2494 4147 2053 4147 \nL 1259 4147 \nz\nM 628 4666 \nL 2053 4666 \nQ 2838 4666 3239 4311 \nQ 3641 3956 3641 3272 \nQ 3641 2581 3239 2228 \nQ 2838 1875 2053 1875 \nL 1259 1875 \nL 1259 0 \nL 628 0 \nL 628 4666 \nz\n\" id=\"DejaVuSans-50\" transform=\"scale(0.015625)\"/>\n       <path d=\"M 603 3500 \nL 1178 3500 \nL 1178 0 \nL 603 0 \nL 603 3500 \nz\nM 603 4863 \nL 1178 4863 \nL 1178 4134 \nL 603 4134 \nL 603 4863 \nz\n\" id=\"DejaVuSans-69\" transform=\"scale(0.015625)\"/>\n       <path d=\"M 2834 3397 \nL 2834 2853 \nQ 2591 2978 2328 3040 \nQ 2066 3103 1784 3103 \nQ 1356 3103 1142 2972 \nQ 928 2841 928 2578 \nQ 928 2378 1081 2264 \nQ 1234 2150 1697 2047 \nL 1894 2003 \nQ 2506 1872 2764 1633 \nQ 3022 1394 3022 966 \nQ 3022 478 2636 193 \nQ 2250 -91 1575 -91 \nQ 1294 -91 989 -36 \nQ 684 19 347 128 \nL 347 722 \nQ 666 556 975 473 \nQ 1284 391 1588 391 \nQ 1994 391 2212 530 \nQ 2431 669 2431 922 \nQ 2431 1156 2273 1281 \nQ 2116 1406 1581 1522 \nL 1381 1569 \nQ 847 1681 609 1914 \nQ 372 2147 372 2553 \nQ 372 3047 722 3315 \nQ 1072 3584 1716 3584 \nQ 2034 3584 2315 3537 \nQ 2597 3491 2834 3397 \nz\n\" id=\"DejaVuSans-73\" transform=\"scale(0.015625)\"/>\n       <path d=\"M 191 3500 \nL 800 3500 \nL 1894 563 \nL 2988 3500 \nL 3597 3500 \nL 2284 0 \nL 1503 0 \nL 191 3500 \nz\n\" id=\"DejaVuSans-76\" transform=\"scale(0.015625)\"/>\n      </defs>\n      <use xlink:href=\"#DejaVuSans-50\"/>\n      <use x=\"58.552734\" xlink:href=\"#DejaVuSans-72\"/>\n      <use x=\"99.666016\" xlink:href=\"#DejaVuSans-69\"/>\n      <use x=\"127.449219\" xlink:href=\"#DejaVuSans-63\"/>\n      <use x=\"182.429688\" xlink:href=\"#DejaVuSans-65\"/>\n      <use x=\"243.953125\" xlink:href=\"#DejaVuSans-20\"/>\n      <use x=\"275.740234\" xlink:href=\"#DejaVuSans-53\"/>\n      <use x=\"339.216797\" xlink:href=\"#DejaVuSans-65\"/>\n      <use x=\"400.740234\" xlink:href=\"#DejaVuSans-6e\"/>\n      <use x=\"464.119141\" xlink:href=\"#DejaVuSans-73\"/>\n      <use x=\"516.21875\" xlink:href=\"#DejaVuSans-69\"/>\n      <use x=\"544.001953\" xlink:href=\"#DejaVuSans-74\"/>\n      <use x=\"583.210938\" xlink:href=\"#DejaVuSans-69\"/>\n      <use x=\"610.994141\" xlink:href=\"#DejaVuSans-76\"/>\n      <use x=\"670.173828\" xlink:href=\"#DejaVuSans-69\"/>\n      <use x=\"697.957031\" xlink:href=\"#DejaVuSans-74\"/>\n      <use x=\"737.166016\" xlink:href=\"#DejaVuSans-79\"/>\n      <use x=\"796.345703\" xlink:href=\"#DejaVuSans-20\"/>\n      <use x=\"828.132812\" xlink:href=\"#DejaVuSans-53\"/>\n      <use x=\"891.609375\" xlink:href=\"#DejaVuSans-63\"/>\n      <use x=\"946.589844\" xlink:href=\"#DejaVuSans-6f\"/>\n      <use x=\"1007.771484\" xlink:href=\"#DejaVuSans-72\"/>\n      <use x=\"1046.634766\" xlink:href=\"#DejaVuSans-65\"/>\n     </g>\n    </g>\n   </g>\n   <g id=\"patch_3\">\n    <path d=\"M 42.620313 239.758125 \nL 42.620313 22.318125 \n\" style=\"fill:none;stroke:#000000;stroke-linecap:square;stroke-linejoin:miter;stroke-width:0.8;\"/>\n   </g>\n   <g id=\"patch_4\">\n    <path d=\"M 377.420313 239.758125 \nL 377.420313 22.318125 \n\" style=\"fill:none;stroke:#000000;stroke-linecap:square;stroke-linejoin:miter;stroke-width:0.8;\"/>\n   </g>\n   <g id=\"patch_5\">\n    <path d=\"M 42.620313 239.758125 \nL 377.420313 239.758125 \n\" style=\"fill:none;stroke:#000000;stroke-linecap:square;stroke-linejoin:miter;stroke-width:0.8;\"/>\n   </g>\n   <g id=\"patch_6\">\n    <path d=\"M 42.620313 22.318125 \nL 377.420313 22.318125 \n\" style=\"fill:none;stroke:#000000;stroke-linecap:square;stroke-linejoin:miter;stroke-width:0.8;\"/>\n   </g>\n   <g id=\"text_15\">\n    <!-- Clustering Output -->\n    <g transform=\"translate(156.698125 16.318125)scale(0.12 -0.12)\">\n     <defs>\n      <path d=\"M 4122 4306 \nL 4122 3641 \nQ 3803 3938 3442 4084 \nQ 3081 4231 2675 4231 \nQ 1875 4231 1450 3742 \nQ 1025 3253 1025 2328 \nQ 1025 1406 1450 917 \nQ 1875 428 2675 428 \nQ 3081 428 3442 575 \nQ 3803 722 4122 1019 \nL 4122 359 \nQ 3791 134 3420 21 \nQ 3050 -91 2638 -91 \nQ 1578 -91 968 557 \nQ 359 1206 359 2328 \nQ 359 3453 968 4101 \nQ 1578 4750 2638 4750 \nQ 3056 4750 3426 4639 \nQ 3797 4528 4122 4306 \nz\n\" id=\"DejaVuSans-43\" transform=\"scale(0.015625)\"/>\n      <path d=\"M 544 1381 \nL 544 3500 \nL 1119 3500 \nL 1119 1403 \nQ 1119 906 1312 657 \nQ 1506 409 1894 409 \nQ 2359 409 2629 706 \nQ 2900 1003 2900 1516 \nL 2900 3500 \nL 3475 3500 \nL 3475 0 \nL 2900 0 \nL 2900 538 \nQ 2691 219 2414 64 \nQ 2138 -91 1772 -91 \nQ 1169 -91 856 284 \nQ 544 659 544 1381 \nz\nM 1991 3584 \nL 1991 3584 \nz\n\" id=\"DejaVuSans-75\" transform=\"scale(0.015625)\"/>\n      <path d=\"M 2906 1791 \nQ 2906 2416 2648 2759 \nQ 2391 3103 1925 3103 \nQ 1463 3103 1205 2759 \nQ 947 2416 947 1791 \nQ 947 1169 1205 825 \nQ 1463 481 1925 481 \nQ 2391 481 2648 825 \nQ 2906 1169 2906 1791 \nz\nM 3481 434 \nQ 3481 -459 3084 -895 \nQ 2688 -1331 1869 -1331 \nQ 1566 -1331 1297 -1286 \nQ 1028 -1241 775 -1147 \nL 775 -588 \nQ 1028 -725 1275 -790 \nQ 1522 -856 1778 -856 \nQ 2344 -856 2625 -561 \nQ 2906 -266 2906 331 \nL 2906 616 \nQ 2728 306 2450 153 \nQ 2172 0 1784 0 \nQ 1141 0 747 490 \nQ 353 981 353 1791 \nQ 353 2603 747 3093 \nQ 1141 3584 1784 3584 \nQ 2172 3584 2450 3431 \nQ 2728 3278 2906 2969 \nL 2906 3500 \nL 3481 3500 \nL 3481 434 \nz\n\" id=\"DejaVuSans-67\" transform=\"scale(0.015625)\"/>\n      <path d=\"M 2522 4238 \nQ 1834 4238 1429 3725 \nQ 1025 3213 1025 2328 \nQ 1025 1447 1429 934 \nQ 1834 422 2522 422 \nQ 3209 422 3611 934 \nQ 4013 1447 4013 2328 \nQ 4013 3213 3611 3725 \nQ 3209 4238 2522 4238 \nz\nM 2522 4750 \nQ 3503 4750 4090 4092 \nQ 4678 3434 4678 2328 \nQ 4678 1225 4090 567 \nQ 3503 -91 2522 -91 \nQ 1538 -91 948 565 \nQ 359 1222 359 2328 \nQ 359 3434 948 4092 \nQ 1538 4750 2522 4750 \nz\n\" id=\"DejaVuSans-4f\" transform=\"scale(0.015625)\"/>\n      <path d=\"M 1159 525 \nL 1159 -1331 \nL 581 -1331 \nL 581 3500 \nL 1159 3500 \nL 1159 2969 \nQ 1341 3281 1617 3432 \nQ 1894 3584 2278 3584 \nQ 2916 3584 3314 3078 \nQ 3713 2572 3713 1747 \nQ 3713 922 3314 415 \nQ 2916 -91 2278 -91 \nQ 1894 -91 1617 61 \nQ 1341 213 1159 525 \nz\nM 3116 1747 \nQ 3116 2381 2855 2742 \nQ 2594 3103 2138 3103 \nQ 1681 3103 1420 2742 \nQ 1159 2381 1159 1747 \nQ 1159 1113 1420 752 \nQ 1681 391 2138 391 \nQ 2594 391 2855 752 \nQ 3116 1113 3116 1747 \nz\n\" id=\"DejaVuSans-70\" transform=\"scale(0.015625)\"/>\n     </defs>\n     <use xlink:href=\"#DejaVuSans-43\"/>\n     <use x=\"69.824219\" xlink:href=\"#DejaVuSans-6c\"/>\n     <use x=\"97.607422\" xlink:href=\"#DejaVuSans-75\"/>\n     <use x=\"160.986328\" xlink:href=\"#DejaVuSans-73\"/>\n     <use x=\"213.085938\" xlink:href=\"#DejaVuSans-74\"/>\n     <use x=\"252.294922\" xlink:href=\"#DejaVuSans-65\"/>\n     <use x=\"313.818359\" xlink:href=\"#DejaVuSans-72\"/>\n     <use x=\"354.931641\" xlink:href=\"#DejaVuSans-69\"/>\n     <use x=\"382.714844\" xlink:href=\"#DejaVuSans-6e\"/>\n     <use x=\"446.09375\" xlink:href=\"#DejaVuSans-67\"/>\n     <use x=\"509.570312\" xlink:href=\"#DejaVuSans-20\"/>\n     <use x=\"541.357422\" xlink:href=\"#DejaVuSans-4f\"/>\n     <use x=\"620.068359\" xlink:href=\"#DejaVuSans-75\"/>\n     <use x=\"683.447266\" xlink:href=\"#DejaVuSans-74\"/>\n     <use x=\"722.65625\" xlink:href=\"#DejaVuSans-70\"/>\n     <use x=\"786.132812\" xlink:href=\"#DejaVuSans-75\"/>\n     <use x=\"849.511719\" xlink:href=\"#DejaVuSans-74\"/>\n    </g>\n   </g>\n   <g id=\"legend_1\">\n    <g id=\"patch_7\">\n     <path d=\"M 292.170313 89.030625 \nL 370.420313 89.030625 \nQ 372.420313 89.030625 372.420313 87.030625 \nL 372.420313 29.318125 \nQ 372.420313 27.318125 370.420313 27.318125 \nL 292.170313 27.318125 \nQ 290.170313 27.318125 290.170313 29.318125 \nL 290.170313 87.030625 \nQ 290.170313 89.030625 292.170313 89.030625 \nz\n\" style=\"fill:#ffffff;opacity:0.8;stroke:#cccccc;stroke-linejoin:miter;\"/>\n    </g>\n    <g id=\"PathCollection_5\">\n     <g>\n      <use style=\"fill:#90ee90;stroke:#000000;\" x=\"304.170313\" xlink:href=\"#m41ecc72a14\" y=\"36.291562\"/>\n     </g>\n    </g>\n    <g id=\"text_16\">\n     <!-- cluster 1 -->\n     <g transform=\"translate(322.170313 38.916562)scale(0.1 -0.1)\">\n      <use xlink:href=\"#DejaVuSans-63\"/>\n      <use x=\"54.980469\" xlink:href=\"#DejaVuSans-6c\"/>\n      <use x=\"82.763672\" xlink:href=\"#DejaVuSans-75\"/>\n      <use x=\"146.142578\" xlink:href=\"#DejaVuSans-73\"/>\n      <use x=\"198.242188\" xlink:href=\"#DejaVuSans-74\"/>\n      <use x=\"237.451172\" xlink:href=\"#DejaVuSans-65\"/>\n      <use x=\"298.974609\" xlink:href=\"#DejaVuSans-72\"/>\n      <use x=\"340.087891\" xlink:href=\"#DejaVuSans-20\"/>\n      <use x=\"371.875\" xlink:href=\"#DejaVuSans-31\"/>\n     </g>\n    </g>\n    <g id=\"PathCollection_6\">\n     <g>\n      <use style=\"fill:#ffa500;stroke:#000000;\" x=\"304.170313\" xlink:href=\"#mba2f85565a\" y=\"50.969687\"/>\n     </g>\n    </g>\n    <g id=\"text_17\">\n     <!-- cluster 2 -->\n     <g transform=\"translate(322.170313 53.594687)scale(0.1 -0.1)\">\n      <use xlink:href=\"#DejaVuSans-63\"/>\n      <use x=\"54.980469\" xlink:href=\"#DejaVuSans-6c\"/>\n      <use x=\"82.763672\" xlink:href=\"#DejaVuSans-75\"/>\n      <use x=\"146.142578\" xlink:href=\"#DejaVuSans-73\"/>\n      <use x=\"198.242188\" xlink:href=\"#DejaVuSans-74\"/>\n      <use x=\"237.451172\" xlink:href=\"#DejaVuSans-65\"/>\n      <use x=\"298.974609\" xlink:href=\"#DejaVuSans-72\"/>\n      <use x=\"340.087891\" xlink:href=\"#DejaVuSans-20\"/>\n      <use x=\"371.875\" xlink:href=\"#DejaVuSans-32\"/>\n     </g>\n    </g>\n    <g id=\"PathCollection_7\">\n     <g>\n      <use style=\"fill:#add8e6;stroke:#000000;\" x=\"304.170313\" xlink:href=\"#mae0737ebf3\" y=\"65.647812\"/>\n     </g>\n    </g>\n    <g id=\"text_18\">\n     <!-- cluster 3 -->\n     <g transform=\"translate(322.170313 68.272812)scale(0.1 -0.1)\">\n      <defs>\n       <path d=\"M 2597 2516 \nQ 3050 2419 3304 2112 \nQ 3559 1806 3559 1356 \nQ 3559 666 3084 287 \nQ 2609 -91 1734 -91 \nQ 1441 -91 1130 -33 \nQ 819 25 488 141 \nL 488 750 \nQ 750 597 1062 519 \nQ 1375 441 1716 441 \nQ 2309 441 2620 675 \nQ 2931 909 2931 1356 \nQ 2931 1769 2642 2001 \nQ 2353 2234 1838 2234 \nL 1294 2234 \nL 1294 2753 \nL 1863 2753 \nQ 2328 2753 2575 2939 \nQ 2822 3125 2822 3475 \nQ 2822 3834 2567 4026 \nQ 2313 4219 1838 4219 \nQ 1578 4219 1281 4162 \nQ 984 4106 628 3988 \nL 628 4550 \nQ 988 4650 1302 4700 \nQ 1616 4750 1894 4750 \nQ 2613 4750 3031 4423 \nQ 3450 4097 3450 3541 \nQ 3450 3153 3228 2886 \nQ 3006 2619 2597 2516 \nz\n\" id=\"DejaVuSans-33\" transform=\"scale(0.015625)\"/>\n      </defs>\n      <use xlink:href=\"#DejaVuSans-63\"/>\n      <use x=\"54.980469\" xlink:href=\"#DejaVuSans-6c\"/>\n      <use x=\"82.763672\" xlink:href=\"#DejaVuSans-75\"/>\n      <use x=\"146.142578\" xlink:href=\"#DejaVuSans-73\"/>\n      <use x=\"198.242188\" xlink:href=\"#DejaVuSans-74\"/>\n      <use x=\"237.451172\" xlink:href=\"#DejaVuSans-65\"/>\n      <use x=\"298.974609\" xlink:href=\"#DejaVuSans-72\"/>\n      <use x=\"340.087891\" xlink:href=\"#DejaVuSans-20\"/>\n      <use x=\"371.875\" xlink:href=\"#DejaVuSans-33\"/>\n     </g>\n    </g>\n    <g id=\"PathCollection_8\">\n     <g>\n      <use style=\"fill:#ff0000;stroke:#000000;\" x=\"304.170313\" xlink:href=\"#m80e2b23764\" y=\"80.325938\"/>\n     </g>\n    </g>\n    <g id=\"text_19\">\n     <!-- centroids -->\n     <g transform=\"translate(322.170313 82.950938)scale(0.1 -0.1)\">\n      <use xlink:href=\"#DejaVuSans-63\"/>\n      <use x=\"54.980469\" xlink:href=\"#DejaVuSans-65\"/>\n      <use x=\"116.503906\" xlink:href=\"#DejaVuSans-6e\"/>\n      <use x=\"179.882812\" xlink:href=\"#DejaVuSans-74\"/>\n      <use x=\"219.091797\" xlink:href=\"#DejaVuSans-72\"/>\n      <use x=\"257.955078\" xlink:href=\"#DejaVuSans-6f\"/>\n      <use x=\"319.136719\" xlink:href=\"#DejaVuSans-69\"/>\n      <use x=\"346.919922\" xlink:href=\"#DejaVuSans-64\"/>\n      <use x=\"410.396484\" xlink:href=\"#DejaVuSans-73\"/>\n     </g>\n    </g>\n   </g>\n  </g>\n </g>\n <defs>\n  <clipPath id=\"p27fe2eab22\">\n   <rect height=\"217.44\" width=\"334.8\" x=\"42.620313\" y=\"22.318125\"/>\n  </clipPath>\n </defs>\n</svg>\n",
            "image/png": "[encoded data removed]"
          },
          "metadata": {
            "needs_background": "light"
          }
        }
      ],
      "metadata": {
        "colab": {
          "base_uri": "https://localhost:8080/",
          "height": 295
        },
        "id": "fFqnrekc7z-y",
        "outputId": "53673e08-db1b-447f-f5c2-286bfe4bdfb0"
      }
    },
    {
      "cell_type": "code",
      "execution_count": 29,
      "source": [
        "predictions_relabelled = np.where(predictions==0, \"Value Conscious\", np.where(predictions==1,\"Brand Advocates\", \"Loyal to low cost\"))\n",
        "df['category'] = pd.Series(predictions_relabelled, index=df.index)\n",
        "df.index.name = \"Customer Number\"\n"
      ],
      "outputs": [],
      "metadata": {
        "id": "cL_OWe5x737Z"
      }
    },
    {
      "cell_type": "code",
      "execution_count": 30,
      "source": [
        "pd.DataFrame(df).head()"
      ],
      "outputs": [
        {
          "output_type": "execute_result",
          "data": {
            "text/plain": [
              "                 brand_loyality_score  price_sensitivity_score  \\\n",
              "Customer Number                                                  \n",
              "0                            9.310463                 5.356477   \n",
              "1                            1.887756                 7.301291   \n",
              "2                            9.554102                 5.339255   \n",
              "3                            1.239190                 7.775585   \n",
              "4                            4.042612                 6.993620   \n",
              "\n",
              "                          category  \n",
              "Customer Number                     \n",
              "0                  Brand Advocates  \n",
              "1                Loyal to low cost  \n",
              "2                  Brand Advocates  \n",
              "3                Loyal to low cost  \n",
              "4                  Value Conscious  "
            ],
            "text/html": [
              "<div>\n",
              "<style scoped>\n",
              "    .dataframe tbody tr th:only-of-type {\n",
              "        vertical-align: middle;\n",
              "    }\n",
              "\n",
              "    .dataframe tbody tr th {\n",
              "        vertical-align: top;\n",
              "    }\n",
              "\n",
              "    .dataframe thead th {\n",
              "        text-align: right;\n",
              "    }\n",
              "</style>\n",
              "<table border=\"1\" class=\"dataframe\">\n",
              "  <thead>\n",
              "    <tr style=\"text-align: right;\">\n",
              "      <th></th>\n",
              "      <th>brand_loyality_score</th>\n",
              "      <th>price_sensitivity_score</th>\n",
              "      <th>category</th>\n",
              "    </tr>\n",
              "    <tr>\n",
              "      <th>Customer Number</th>\n",
              "      <th></th>\n",
              "      <th></th>\n",
              "      <th></th>\n",
              "    </tr>\n",
              "  </thead>\n",
              "  <tbody>\n",
              "    <tr>\n",
              "      <th>0</th>\n",
              "      <td>9.310463</td>\n",
              "      <td>5.356477</td>\n",
              "      <td>Brand Advocates</td>\n",
              "    </tr>\n",
              "    <tr>\n",
              "      <th>1</th>\n",
              "      <td>1.887756</td>\n",
              "      <td>7.301291</td>\n",
              "      <td>Loyal to low cost</td>\n",
              "    </tr>\n",
              "    <tr>\n",
              "      <th>2</th>\n",
              "      <td>9.554102</td>\n",
              "      <td>5.339255</td>\n",
              "      <td>Brand Advocates</td>\n",
              "    </tr>\n",
              "    <tr>\n",
              "      <th>3</th>\n",
              "      <td>1.239190</td>\n",
              "      <td>7.775585</td>\n",
              "      <td>Loyal to low cost</td>\n",
              "    </tr>\n",
              "    <tr>\n",
              "      <th>4</th>\n",
              "      <td>4.042612</td>\n",
              "      <td>6.993620</td>\n",
              "      <td>Value Conscious</td>\n",
              "    </tr>\n",
              "  </tbody>\n",
              "</table>\n",
              "</div>"
            ]
          },
          "metadata": {},
          "execution_count": 30
        }
      ],
      "metadata": {
        "colab": {
          "base_uri": "https://localhost:8080/",
          "height": 237
        },
        "id": "R5JYVyi376c4",
        "outputId": "c628e699-cf5f-405b-b61a-9c255e2cc5fc"
      }
    }
  ]
}