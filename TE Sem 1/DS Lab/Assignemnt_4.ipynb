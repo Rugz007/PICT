{
 "cells": [
  {
   "cell_type": "markdown",
   "source": [
    "### Name : Rugved Somwanshi\n",
    "### Roll No : 33273\n",
    "### Topic : Linear Regression\n",
    "###  Lab : Data Science Lab"
   ],
   "metadata": {}
  },
  {
   "cell_type": "markdown",
   "source": [
    "# K-Means Clustering"
   ],
   "metadata": {}
  },
  {
   "cell_type": "code",
   "execution_count": 1,
   "source": [
    "import pandas as pd\n",
    "import numpy as np\n",
    "import matplotlib.pyplot as plt\n",
    "from sklearn.preprocessing import StandardScaler\n",
    "from sklearn.cluster import KMeans"
   ],
   "outputs": [],
   "metadata": {}
  },
  {
   "cell_type": "markdown",
   "source": [
    "# Importing Dataset"
   ],
   "metadata": {}
  },
  {
   "cell_type": "code",
   "execution_count": 2,
   "source": [
    "df = pd.read_csv('dataset-marketing.csv')\n",
    "df.describe()"
   ],
   "outputs": [
    {
     "output_type": "execute_result",
     "data": {
      "text/html": [
       "<div>\n",
       "<style scoped>\n",
       "    .dataframe tbody tr th:only-of-type {\n",
       "        vertical-align: middle;\n",
       "    }\n",
       "\n",
       "    .dataframe tbody tr th {\n",
       "        vertical-align: top;\n",
       "    }\n",
       "\n",
       "    .dataframe thead th {\n",
       "        text-align: right;\n",
       "    }\n",
       "</style>\n",
       "<table border=\"1\" class=\"dataframe\">\n",
       "  <thead>\n",
       "    <tr style=\"text-align: right;\">\n",
       "      <th></th>\n",
       "      <th>brand_loyality_score</th>\n",
       "      <th>price_sensitivity_score</th>\n",
       "    </tr>\n",
       "  </thead>\n",
       "  <tbody>\n",
       "    <tr>\n",
       "      <th>count</th>\n",
       "      <td>150.000000</td>\n",
       "      <td>150.000000</td>\n",
       "    </tr>\n",
       "    <tr>\n",
       "      <th>mean</th>\n",
       "      <td>4.960049</td>\n",
       "      <td>6.435248</td>\n",
       "    </tr>\n",
       "    <tr>\n",
       "      <th>std</th>\n",
       "      <td>3.011512</td>\n",
       "      <td>0.944013</td>\n",
       "    </tr>\n",
       "    <tr>\n",
       "      <th>min</th>\n",
       "      <td>0.578259</td>\n",
       "      <td>4.246792</td>\n",
       "    </tr>\n",
       "    <tr>\n",
       "      <th>25%</th>\n",
       "      <td>1.889442</td>\n",
       "      <td>5.637454</td>\n",
       "    </tr>\n",
       "    <tr>\n",
       "      <th>50%</th>\n",
       "      <td>4.368651</td>\n",
       "      <td>6.565923</td>\n",
       "    </tr>\n",
       "    <tr>\n",
       "      <th>75%</th>\n",
       "      <td>8.570695</td>\n",
       "      <td>7.146110</td>\n",
       "    </tr>\n",
       "    <tr>\n",
       "      <th>max</th>\n",
       "      <td>9.742813</td>\n",
       "      <td>8.363148</td>\n",
       "    </tr>\n",
       "  </tbody>\n",
       "</table>\n",
       "</div>"
      ],
      "text/plain": [
       "       brand_loyality_score  price_sensitivity_score\n",
       "count            150.000000               150.000000\n",
       "mean               4.960049                 6.435248\n",
       "std                3.011512                 0.944013\n",
       "min                0.578259                 4.246792\n",
       "25%                1.889442                 5.637454\n",
       "50%                4.368651                 6.565923\n",
       "75%                8.570695                 7.146110\n",
       "max                9.742813                 8.363148"
      ]
     },
     "metadata": {},
     "execution_count": 2
    }
   ],
   "metadata": {}
  },
  {
   "cell_type": "markdown",
   "source": [
    "# Data Preprocessing"
   ],
   "metadata": {}
  },
  {
   "cell_type": "code",
   "execution_count": 3,
   "source": [
    "sc = StandardScaler()\n",
    "df_scaled = sc.fit_transform(df)\n",
    "df_scaled"
   ],
   "outputs": [
    {
     "output_type": "execute_result",
     "data": {
      "text/plain": [
       "array([[ 1.44943396, -1.14657865],\n",
       "       [-1.02360028,  0.92047929],\n",
       "       [ 1.53060763, -1.16488273],\n",
       "       [-1.23968431,  1.42458632],\n",
       "       [-0.30566383,  0.59346927],\n",
       "       [-1.00692082,  1.32992949],\n",
       "       [ 1.20934201, -1.72744849],\n",
       "       [-0.16348123,  0.78983462],\n",
       "       [-1.09788619,  1.61896648],\n",
       "       [ 1.2693947 , -1.94289412],\n",
       "       [-1.39103114,  1.13918773],\n",
       "       [-1.11613379, -0.07786444],\n",
       "       [-0.26930305,  0.63828386],\n",
       "       [-1.18349065, -0.36142962],\n",
       "       [ 1.29738326, -0.6795792 ],\n",
       "       [ 0.00924993,  0.67264162],\n",
       "       [ 1.1886465 , -1.17732225],\n",
       "       [-0.86650012,  0.70444516],\n",
       "       [ 1.25486602, -0.88332737],\n",
       "       [-1.06068329,  1.24525932],\n",
       "       [-1.40057044, -0.10357193],\n",
       "       [-0.10530071, -0.0234458 ],\n",
       "       [-0.25881683,  1.3033406 ],\n",
       "       [-0.86117929,  1.21039317],\n",
       "       [-0.0698352 ,  0.07199522],\n",
       "       [-1.18047746,  1.93295162],\n",
       "       [-0.97593128,  0.75899564],\n",
       "       [ 1.38805346, -0.70071459],\n",
       "       [-1.31482088,  0.29663697],\n",
       "       [-0.0447178 ,  0.44404556],\n",
       "       [-1.17742537, -0.15845317],\n",
       "       [-0.39099237, -0.33941324],\n",
       "       [ 1.27905581, -0.81627627],\n",
       "       [-0.23763829,  0.48608104],\n",
       "       [-0.94117095,  0.6333193 ],\n",
       "       [-0.49279156,  1.47138792],\n",
       "       [-1.02135445,  0.45456659],\n",
       "       [ 1.09789971, -1.3665288 ],\n",
       "       [-0.79747036,  0.98075437],\n",
       "       [ 1.25645207, -0.9651038 ],\n",
       "       [ 1.11405948, -1.18603272],\n",
       "       [ 1.36653529, -1.50279166],\n",
       "       [-0.21588455, -0.07491829],\n",
       "       [-1.156424  ,  0.08235206],\n",
       "       [-1.22017302,  0.76347991],\n",
       "       [-1.13803762,  0.69018104],\n",
       "       [-0.07150065,  0.96573133],\n",
       "       [ 1.3373252 , -0.76727247],\n",
       "       [ 0.9033198 , -0.71804219],\n",
       "       [ 1.21342576, -1.28964062],\n",
       "       [ 1.40108007, -1.59155153],\n",
       "       [-1.13177371,  1.48868495],\n",
       "       [ 1.49467009, -0.7655968 ],\n",
       "       [-0.06945369,  0.5671068 ],\n",
       "       [ 1.4997876 , -1.18784842],\n",
       "       [-1.45988756,  0.50275536],\n",
       "       [ 0.02946183, -0.05444504],\n",
       "       [ 1.25951905, -1.32026186],\n",
       "       [-0.28696565,  0.47682656],\n",
       "       [ 1.21732012, -0.65269494],\n",
       "       [-0.86555401,  0.74159319],\n",
       "       [ 1.26520999, -2.2077774 ],\n",
       "       [-0.30748883,  0.30486525],\n",
       "       [-1.09908801,  0.98887241],\n",
       "       [ 1.59348087, -1.19365998],\n",
       "       [-0.3715181 ,  0.72813681],\n",
       "       [-0.23054932,  0.57943409],\n",
       "       [ 1.41404561, -1.24546902],\n",
       "       [-0.35800403,  0.100982  ],\n",
       "       [-1.07026435,  0.04340735],\n",
       "       [-1.31659134,  1.63158052],\n",
       "       [ 1.50192686, -1.510757  ],\n",
       "       [-0.47602347,  0.57302733],\n",
       "       [-0.14714606,  0.14660969],\n",
       "       [-1.04676865,  0.36384784],\n",
       "       [ 1.18941899, -2.32601387],\n",
       "       [-0.84100241,  0.93666374],\n",
       "       [-1.12354613,  0.08371396],\n",
       "       [-0.1314345 , -0.61053583],\n",
       "       [-1.02457234,  1.21422519],\n",
       "       [-0.19388354,  0.97938296],\n",
       "       [-0.14843807, -0.57856664],\n",
       "       [ 1.19263385, -1.42441672],\n",
       "       [ 1.50090887, -1.70362698],\n",
       "       [-0.94645814,  1.17376731],\n",
       "       [ 1.34226213, -1.29051232],\n",
       "       [-0.41010707,  0.77783677],\n",
       "       [-1.13257918,  1.75782748],\n",
       "       [-1.03180979,  0.71575332],\n",
       "       [-0.1963934 , -0.06298105],\n",
       "       [ 0.13529764,  0.13116735],\n",
       "       [-1.16599347,  0.22756976],\n",
       "       [-0.19882573,  0.53395543],\n",
       "       [ 1.19980139, -1.0470478 ],\n",
       "       [-0.33042865, -0.59917395],\n",
       "       [ 1.25076584, -1.31890604],\n",
       "       [ 0.0868197 ,  0.45798014],\n",
       "       [-1.14864082,  0.54069376],\n",
       "       [-1.07110532,  0.57585581],\n",
       "       [-0.23928439, -0.22161359],\n",
       "       [-1.17297729,  0.60385037],\n",
       "       [ 1.02275093, -1.06104354],\n",
       "       [ 0.05009771,  0.89572443],\n",
       "       [-0.19768029, -0.4416992 ],\n",
       "       [-0.43128166,  0.91403636],\n",
       "       [-0.82176822,  0.67958574],\n",
       "       [ 1.28414765, -0.8642051 ],\n",
       "       [-0.26689386,  0.68443567],\n",
       "       [-1.22820516,  0.82495595],\n",
       "       [-0.32924716, -0.05700169],\n",
       "       [-1.05075953,  0.08772999],\n",
       "       [ 1.36931475, -1.21435084],\n",
       "       [-1.14811244, -0.09024063],\n",
       "       [ 0.00554761,  0.45278377],\n",
       "       [ 1.26618924, -1.47402176],\n",
       "       [-0.18314542,  0.74519056],\n",
       "       [-0.1660079 ,  0.88167253],\n",
       "       [ 1.56711451, -1.51832869],\n",
       "       [-1.05216282,  2.04908081],\n",
       "       [-0.13616637, -0.33563584],\n",
       "       [-0.25362213,  0.18210185],\n",
       "       [-0.10076265,  1.02260923],\n",
       "       [-0.37905084,  0.76318487],\n",
       "       [ 0.99323323, -0.99775814],\n",
       "       [ 1.3533925 , -0.5756261 ],\n",
       "       [ 0.02505422,  0.67535473],\n",
       "       [-1.16591309,  1.54384681],\n",
       "       [ 1.2851658 , -0.45785807],\n",
       "       [-0.73951049,  1.31647747],\n",
       "       [-1.35502994,  1.12122267],\n",
       "       [-1.1798583 ,  0.38175048],\n",
       "       [ 1.3861372 , -1.35747465],\n",
       "       [ 1.20349755, -0.85849484],\n",
       "       [ 0.99267833, -1.31661957],\n",
       "       [ 1.20136517, -1.03384079],\n",
       "       [-1.25999718,  1.05359644],\n",
       "       [ 1.37054054, -1.58283029],\n",
       "       [ 1.06387809, -0.72744059],\n",
       "       [ 0.03104973,  1.28569879],\n",
       "       [-0.35633924,  0.47182742],\n",
       "       [ 1.47812382, -1.38265166],\n",
       "       [-0.46915527,  0.71283655],\n",
       "       [ 1.36592195, -1.78350551],\n",
       "       [-1.11802484,  0.81443579],\n",
       "       [ 1.22708171, -0.77910403],\n",
       "       [ 0.15900706, -0.42106456],\n",
       "       [ 1.41000058, -1.82145848],\n",
       "       [ 1.31703111, -0.27326853],\n",
       "       [-1.2474088 ,  0.85574319],\n",
       "       [ 0.00977035,  0.52536122]])"
      ]
     },
     "metadata": {},
     "execution_count": 3
    }
   ],
   "metadata": {}
  },
  {
   "cell_type": "markdown",
   "source": [
    "# Model Training"
   ],
   "metadata": {}
  },
  {
   "cell_type": "code",
   "execution_count": 4,
   "source": [
    "ssq = []\n",
    "for K in range(1, 11):\n",
    "    my_model = KMeans(n_clusters=K, random_state=123)\n",
    "    result = my_model.fit(df_scaled)\n",
    "    ssq.append(my_model.inertia_)"
   ],
   "outputs": [
    {
     "output_type": "stream",
     "name": "stderr",
     "text": [
      "C:\\Users\\akash\\anaconda3\\lib\\site-packages\\sklearn\\cluster\\_kmeans.py:881: UserWarning: KMeans is known to have a memory leak on Windows with MKL, when there are less chunks than available threads. You can avoid it by setting the environment variable OMP_NUM_THREADS=1.\n",
      "  warnings.warn(\n"
     ]
    }
   ],
   "metadata": {}
  },
  {
   "cell_type": "code",
   "execution_count": 5,
   "source": [
    "plt.plot(range(1,11), ssq, marker='o', color='blue')\n",
    "plt.xlabel(\"Number of clusters\")\n",
    "plt.ylabel(\"Within-cluster SSQ\")\n",
    "plt.title(\"SSQ Plot\")\n",
    "plt.show()"
   ],
   "outputs": [
    {
     "output_type": "display_data",
     "data": {
      "image/png": "[encoded data removed]",
      "text/plain": [
       "<Figure size 432x288 with 1 Axes>"
      ]
     },
     "metadata": {
      "needs_background": "light"
     }
    }
   ],
   "metadata": {}
  },
  {
   "cell_type": "code",
   "execution_count": 6,
   "source": [
    "my_model = KMeans(n_clusters=3, random_state=123)\n",
    "result= my_model.fit(df_scaled)"
   ],
   "outputs": [],
   "metadata": {}
  },
  {
   "cell_type": "markdown",
   "source": [
    "# Model Testing"
   ],
   "metadata": {}
  },
  {
   "cell_type": "code",
   "execution_count": 7,
   "source": [
    "predictions = result.predict(df_scaled)\n",
    "predictions[:5] "
   ],
   "outputs": [
    {
     "output_type": "execute_result",
     "data": {
      "text/plain": [
       "array([1, 2, 1, 2, 0])"
      ]
     },
     "metadata": {},
     "execution_count": 7
    }
   ],
   "metadata": {}
  },
  {
   "cell_type": "markdown",
   "source": [
    "# Deploying Model"
   ],
   "metadata": {}
  },
  {
   "cell_type": "code",
   "execution_count": 8,
   "source": [
    "pred_new = list(result.predict([[9.3,5.36]]))\n",
    "pred_new"
   ],
   "outputs": [
    {
     "output_type": "execute_result",
     "data": {
      "text/plain": [
       "[1]"
      ]
     },
     "metadata": {},
     "execution_count": 8
    }
   ],
   "metadata": {}
  },
  {
   "cell_type": "code",
   "execution_count": 9,
   "source": [
    "plt.scatter(df_scaled[predictions==0,0], df_scaled[predictions==0, 1], s=50, c='lightgreen',\\\n",
    "           marker='s', edgecolors='black', label='Cluster 1')\n",
    "plt.scatter(df_scaled[predictions==1,0], df_scaled[predictions==1, 1], s=50, c='orange',\\\n",
    "           marker='o', edgecolors='black', label='Cluster 2')\n",
    "plt.scatter(df_scaled[predictions==2,0], df_scaled[predictions==2, 1], s=50, c='lightblue',\\\n",
    "           marker='v', edgecolors='black', label='Cluster 3')\n",
    "plt.scatter(result.cluster_centers_[:,0], result.cluster_centers_[:,1], s=250, c='red',\\\n",
    "           marker='*', edgecolors='black', label='centroids')\n",
    "plt.legend(scatterpoints=1)\n",
    "plt.xlabel(\"Brand Loyalty Score\")\n",
    "plt.ylabel(\"Price Sensitivity Score\")\n",
    "plt.title(\"Clustering Output\")\n",
    "plt.show()"
   ],
   "outputs": [
    {
     "output_type": "display_data",
     "data": {
      "image/png": "[encoded data removed]",
      "text/plain": [
       "<Figure size 432x288 with 1 Axes>"
      ]
     },
     "metadata": {
      "needs_background": "light"
     }
    }
   ],
   "metadata": {}
  },
  {
   "cell_type": "code",
   "execution_count": 11,
   "source": [
    "predictions_relabelled = np.where(predictions==0, \"Value Conscious\", \n",
    "                                  np.where(predictions==1,\"Brand Advocates\", \"Loyal to low cost\"))\n",
    "df['category'] = pd.Series(predictions_relabelled, index=df.index)\n",
    "df.index.name = \"Customer Number\"\n",
    "pd.DataFrame(df).head()"
   ],
   "outputs": [
    {
     "output_type": "execute_result",
     "data": {
      "text/html": [
       "<div>\n",
       "<style scoped>\n",
       "    .dataframe tbody tr th:only-of-type {\n",
       "        vertical-align: middle;\n",
       "    }\n",
       "\n",
       "    .dataframe tbody tr th {\n",
       "        vertical-align: top;\n",
       "    }\n",
       "\n",
       "    .dataframe thead th {\n",
       "        text-align: right;\n",
       "    }\n",
       "</style>\n",
       "<table border=\"1\" class=\"dataframe\">\n",
       "  <thead>\n",
       "    <tr style=\"text-align: right;\">\n",
       "      <th></th>\n",
       "      <th>brand_loyality_score</th>\n",
       "      <th>price_sensitivity_score</th>\n",
       "      <th>category</th>\n",
       "    </tr>\n",
       "    <tr>\n",
       "      <th>Customer Number</th>\n",
       "      <th></th>\n",
       "      <th></th>\n",
       "      <th></th>\n",
       "    </tr>\n",
       "  </thead>\n",
       "  <tbody>\n",
       "    <tr>\n",
       "      <th>0</th>\n",
       "      <td>9.310463</td>\n",
       "      <td>5.356477</td>\n",
       "      <td>Brand Advocates</td>\n",
       "    </tr>\n",
       "    <tr>\n",
       "      <th>1</th>\n",
       "      <td>1.887756</td>\n",
       "      <td>7.301291</td>\n",
       "      <td>Loyal to low cost</td>\n",
       "    </tr>\n",
       "    <tr>\n",
       "      <th>2</th>\n",
       "      <td>9.554102</td>\n",
       "      <td>5.339255</td>\n",
       "      <td>Brand Advocates</td>\n",
       "    </tr>\n",
       "    <tr>\n",
       "      <th>3</th>\n",
       "      <td>1.239190</td>\n",
       "      <td>7.775585</td>\n",
       "      <td>Loyal to low cost</td>\n",
       "    </tr>\n",
       "    <tr>\n",
       "      <th>4</th>\n",
       "      <td>4.042612</td>\n",
       "      <td>6.993620</td>\n",
       "      <td>Value Conscious</td>\n",
       "    </tr>\n",
       "  </tbody>\n",
       "</table>\n",
       "</div>"
      ],
      "text/plain": [
       "                 brand_loyality_score  price_sensitivity_score  \\\n",
       "Customer Number                                                  \n",
       "0                            9.310463                 5.356477   \n",
       "1                            1.887756                 7.301291   \n",
       "2                            9.554102                 5.339255   \n",
       "3                            1.239190                 7.775585   \n",
       "4                            4.042612                 6.993620   \n",
       "\n",
       "                          category  \n",
       "Customer Number                     \n",
       "0                  Brand Advocates  \n",
       "1                Loyal to low cost  \n",
       "2                  Brand Advocates  \n",
       "3                Loyal to low cost  \n",
       "4                  Value Conscious  "
      ]
     },
     "metadata": {},
     "execution_count": 11
    }
   ],
   "metadata": {}
  }
 ],
 "metadata": {
  "kernelspec": {
   "display_name": "Python 3",
   "language": "python",
   "name": "python3"
  },
  "language_info": {
   "codemirror_mode": {
    "name": "ipython",
    "version": 3
   },
   "file_extension": ".py",
   "mimetype": "text/x-python",
   "name": "python",
   "nbconvert_exporter": "python",
   "pygments_lexer": "ipython3",
   "version": "3.8.8"
  }
 },
 "nbformat": 4,
 "nbformat_minor": 5
}