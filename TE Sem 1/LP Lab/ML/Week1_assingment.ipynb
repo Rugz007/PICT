{
 "cells": [
  {
   "cell_type": "markdown",
   "source": [
    "# WEEK 1 ML ASSIGNMENTS"
   ],
   "metadata": {}
  },
  {
   "cell_type": "markdown",
   "source": [
    "# GROUP MEMBERS \n",
    "\n",
    "### Rugved - 33273\n",
    "### Onkar - 33268\n",
    "### Shubham - 33265"
   ],
   "metadata": {}
  },
  {
   "cell_type": "markdown",
   "source": [
    "## We all installed Anaconda and then we learnt how to use it and then carried on with the tasks in one notebook only."
   ],
   "metadata": {}
  },
  {
   "cell_type": "code",
   "execution_count": 1,
   "source": [
    "import numpy as np"
   ],
   "outputs": [],
   "metadata": {}
  },
  {
   "cell_type": "code",
   "execution_count": 2,
   "source": [
    "array1 = np.array([0,20,10,40,60,80])\n",
    "array2 = np.array([10,30,40,50,70])"
   ],
   "outputs": [],
   "metadata": {}
  },
  {
   "cell_type": "code",
   "execution_count": 3,
   "source": [
    "union = np.union1d(array1,array2)"
   ],
   "outputs": [],
   "metadata": {}
  },
  {
   "cell_type": "code",
   "execution_count": 4,
   "source": [
    "print(union)"
   ],
   "outputs": [
    {
     "output_type": "stream",
     "name": "stdout",
     "text": [
      "[ 0 10 20 30 40 50 60 70 80]\n"
     ]
    }
   ],
   "metadata": {}
  },
  {
   "cell_type": "code",
   "execution_count": 5,
   "source": [
    "array1 = np.array([1,2])\n",
    "array2 = np.array([4,5])\n",
    "print(np.greater(array1,array2))\n",
    "print(np.greater_equal(array1,array2))"
   ],
   "outputs": [
    {
     "output_type": "stream",
     "name": "stdout",
     "text": [
      "[False False]\n",
      "[False False]\n"
     ]
    }
   ],
   "metadata": {}
  },
  {
   "cell_type": "code",
   "execution_count": 6,
   "source": [
    "print(np.less(array1,array2))\n",
    "print(np.less_equal(array1,array2))"
   ],
   "outputs": [
    {
     "output_type": "stream",
     "name": "stdout",
     "text": [
      "[ True  True]\n",
      "[ True  True]\n"
     ]
    }
   ],
   "metadata": {}
  },
  {
   "cell_type": "code",
   "execution_count": 7,
   "source": [
    "array = np.array(np.zeros((2,3)))\n",
    "print(array)\n",
    "print(array.shape)\n",
    "print(type(array))"
   ],
   "outputs": [
    {
     "output_type": "stream",
     "name": "stdout",
     "text": [
      "[[0. 0. 0.]\n",
      " [0. 0. 0.]]\n",
      "(2, 3)\n",
      "<class 'numpy.ndarray'>\n"
     ]
    }
   ],
   "metadata": {}
  },
  {
   "cell_type": "code",
   "execution_count": 8,
   "source": [
    "array = np.array(np.zeros((3,5)))\n",
    "np.fill_diagonal(array,12)"
   ],
   "outputs": [],
   "metadata": {}
  },
  {
   "cell_type": "code",
   "execution_count": 9,
   "source": [
    "print(array)"
   ],
   "outputs": [
    {
     "output_type": "stream",
     "name": "stdout",
     "text": [
      "[[12.  0.  0.  0.  0.]\n",
      " [ 0. 12.  0.  0.  0.]\n",
      " [ 0.  0. 12.  0.  0.]]\n"
     ]
    }
   ],
   "metadata": {}
  },
  {
   "cell_type": "code",
   "execution_count": 10,
   "source": [
    "array = np.array([2,43,654,23,1,231])\n",
    "array.sort(kind='quicksort')\n",
    "print(array)"
   ],
   "outputs": [
    {
     "output_type": "stream",
     "name": "stdout",
     "text": [
      "[  1   2  23  43 231 654]\n"
     ]
    }
   ],
   "metadata": {}
  },
  {
   "cell_type": "code",
   "execution_count": null,
   "source": [],
   "outputs": [],
   "metadata": {}
  }
 ],
 "metadata": {
  "interpreter": {
   "hash": "cca8452e2529a2bd83dee1fd0de12ffba9119b0f682deddf66e9e9eaed3ae11c"
  },
  "kernelspec": {
   "name": "python3",
   "display_name": "Python 3.9.6 64-bit ('tf-gpu': conda)"
  },
  "language_info": {
   "codemirror_mode": {
    "name": "ipython",
    "version": 3
   },
   "file_extension": ".py",
   "mimetype": "text/x-python",
   "name": "python",
   "nbconvert_exporter": "python",
   "pygments_lexer": "ipython3",
   "version": "3.9.6"
  }
 },
 "nbformat": 4,
 "nbformat_minor": 2
}